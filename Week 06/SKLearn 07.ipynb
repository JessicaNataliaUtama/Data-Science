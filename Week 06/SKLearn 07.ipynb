{
 "cells": [
  {
   "cell_type": "markdown",
   "metadata": {},
   "source": [
    "# SKLearn 07 | Regression dengan KNN | K-Nearest Neighbours | Belajar Machine Learning Dasar"
   ]
  },
  {
   "cell_type": "markdown",
   "metadata": {},
   "source": [
    "## 07 Regression dengan KNN (K Nearest Neighbours)"
   ]
  },
  {
   "cell_type": "markdown",
   "metadata": {},
   "source": [
    "* KNN adalah model machine learning yang dapat digunakan untuk melakukan prediksi berdasarkan kedekatan karakteristik dengan sejumlah tetangga terdekat.\n",
    "* Prediksi yang dilakukan dapat diterapkan baik pada classification maupun regression tasks.\n",
    "\n",
    "Jadi dapat disimpulkan bahwa KNN dapat digunakan baik untuk classification tasks dan juga regression tasks. Dalam pembelajaran kali ini lebih difokuskan untuk regression tasks.\n",
    "\n",
    "Referensi: https://en.wikipedia.org/wiki/K-nearest_neighbors_algorithm"
   ]
  },
  {
   "cell_type": "markdown",
   "metadata": {},
   "source": [
    "### Sample Dataset"
   ]
  },
  {
   "cell_type": "markdown",
   "metadata": {},
   "source": [
    "Sebelum memulai, pertama-tama akan dipersiapkan terlebih dahulu dataset yang akan digunakan untuk pembejalaran. Kali ini dataset yang dibentuk adalah dataset yang berisikan daftar berat dan tinggi badan sejumlah partisipan beserta gender atau jenis kelaminnya, kemudian dataset ini akan ditampung kedalam format pandas dataframe. \n",
    "\n",
    "**Penjelasan Code:**\n",
    "1. Mengimport pandas dataframe dengan import pandas as pd\n",
    "2. Menyiapkan variable sensus yang akan menampung suatu data dictionary, dimana akan ditampung 3 buah keys dalam dictionary tersebut yaitu tinggi, jk (jenis kelamin), dan berat. \n",
    "3. Kemudian dictionary sensus ini akan dibentuk menjadi pandas dataframe dengan menggunakan pd.DataFrame yang diikuti 1 buah parameter yaitu sensus seabgai dictionary yang akan dibentuk menjadi pandas dataframe.\n",
    "   Kemudian hasilnya akan ditampung kedalam variable sensus_df."
   ]
  },
  {
   "cell_type": "code",
   "execution_count": 1,
   "metadata": {},
   "outputs": [
    {
     "data": {
      "text/html": [
       "<div>\n",
       "<style scoped>\n",
       "    .dataframe tbody tr th:only-of-type {\n",
       "        vertical-align: middle;\n",
       "    }\n",
       "\n",
       "    .dataframe tbody tr th {\n",
       "        vertical-align: top;\n",
       "    }\n",
       "\n",
       "    .dataframe thead th {\n",
       "        text-align: right;\n",
       "    }\n",
       "</style>\n",
       "<table border=\"1\" class=\"dataframe\">\n",
       "  <thead>\n",
       "    <tr style=\"text-align: right;\">\n",
       "      <th></th>\n",
       "      <th>tinggi</th>\n",
       "      <th>jk</th>\n",
       "      <th>berat</th>\n",
       "    </tr>\n",
       "  </thead>\n",
       "  <tbody>\n",
       "    <tr>\n",
       "      <th>0</th>\n",
       "      <td>158</td>\n",
       "      <td>pria</td>\n",
       "      <td>64</td>\n",
       "    </tr>\n",
       "    <tr>\n",
       "      <th>1</th>\n",
       "      <td>170</td>\n",
       "      <td>pria</td>\n",
       "      <td>86</td>\n",
       "    </tr>\n",
       "    <tr>\n",
       "      <th>2</th>\n",
       "      <td>183</td>\n",
       "      <td>pria</td>\n",
       "      <td>84</td>\n",
       "    </tr>\n",
       "    <tr>\n",
       "      <th>3</th>\n",
       "      <td>191</td>\n",
       "      <td>pria</td>\n",
       "      <td>80</td>\n",
       "    </tr>\n",
       "    <tr>\n",
       "      <th>4</th>\n",
       "      <td>155</td>\n",
       "      <td>wanita</td>\n",
       "      <td>49</td>\n",
       "    </tr>\n",
       "    <tr>\n",
       "      <th>5</th>\n",
       "      <td>163</td>\n",
       "      <td>wanita</td>\n",
       "      <td>59</td>\n",
       "    </tr>\n",
       "    <tr>\n",
       "      <th>6</th>\n",
       "      <td>180</td>\n",
       "      <td>wanita</td>\n",
       "      <td>67</td>\n",
       "    </tr>\n",
       "    <tr>\n",
       "      <th>7</th>\n",
       "      <td>158</td>\n",
       "      <td>wanita</td>\n",
       "      <td>54</td>\n",
       "    </tr>\n",
       "    <tr>\n",
       "      <th>8</th>\n",
       "      <td>170</td>\n",
       "      <td>wanita</td>\n",
       "      <td>67</td>\n",
       "    </tr>\n",
       "  </tbody>\n",
       "</table>\n",
       "</div>"
      ],
      "text/plain": [
       "   tinggi      jk  berat\n",
       "0     158    pria     64\n",
       "1     170    pria     86\n",
       "2     183    pria     84\n",
       "3     191    pria     80\n",
       "4     155  wanita     49\n",
       "5     163  wanita     59\n",
       "6     180  wanita     67\n",
       "7     158  wanita     54\n",
       "8     170  wanita     67"
      ]
     },
     "execution_count": 1,
     "metadata": {},
     "output_type": "execute_result"
    }
   ],
   "source": [
    "import pandas as pd\n",
    "# mengimport pandas\n",
    "\n",
    "sensus = {'tinggi': [158, 170, 183, 191, 155, 163, 180, 158, 170], \n",
    "          'jk': ['pria', 'pria', 'pria', 'pria', 'wanita', 'wanita', 'wanita', 'wanita', 'wanita'],\n",
    "          'berat': [64, 86, 84, 80, 49, 59, 67, 54, 67]}\n",
    "# membentuk dataset sensus\n",
    "\n",
    "sensus_df = pd.DataFrame(sensus)\n",
    "# menjadikan dataset yang dimiliki menjadi pandas dataframe\n",
    "\n",
    "sensus_df\n",
    "# menampilkan dataset"
   ]
  },
  {
   "cell_type": "markdown",
   "metadata": {},
   "source": [
    "Dalam pembelajaran kali ini akan dibentuk model machine learning sederhana yang dapat digunakan untuk memprediksi berat badan seseorang berdasarkan data tinggi dan jenis kelaminnya. Dengan kata lain disini data tinggi dan jenis kelamin akan menjadi features dan berat akan menjadi target."
   ]
  },
  {
   "cell_type": "markdown",
   "metadata": {},
   "source": [
    "### Regression dengan KNN"
   ]
  },
  {
   "cell_type": "markdown",
   "metadata": {},
   "source": [
    "Sekarang akan coba menerapkan KNN untuk melakukan estimasi nilai (regression) berat badan. Model machine learning ini akan melakukan prediksi berat badan."
   ]
  },
  {
   "cell_type": "markdown",
   "metadata": {},
   "source": [
    "#### Features & Target"
   ]
  },
  {
   "cell_type": "markdown",
   "metadata": {},
   "source": [
    "Sebelum melakukan training model, terlebih dulu akan dilakukan pengelompokkan sekumpulan nilai features dan target dari dataset yang dimiliki. \n",
    "\n",
    "Dalam kasus ini data tinggi badan dan jenis kelamin akan dikonversi kedalam numpy array yang kemudian akan ditampung kedalam variable x_train sebagai sekumpulan features untuk training set. Dan kolom berat badan juga akan dikonversikan menjadi numpy array dan ditampung kedalam variable y_train sebagai sekumpulan nilai target untuk training set.\n",
    "\n",
    "**Caranya:**\n",
    "1. Mengimport numpy array dengan import numpy array as np\n",
    "2. Membentuk numpy array pertama berdasarkan kolom tinggi dan jenis kelamin dari sensus_df menggunakan np.array yang diikuti 1 buah parameter yaitu data yang mau diambil (tinggi & jenis kelamin dari sensus_df). Kemudian hasilnya akan ditampung kedalam variable x_train.\n",
    "3. Membentuk numpy array kedua berdasarkan kolom berat dari sensus_df menggunakan np.array yang diikuti 1 buah parameter yaitu data yang mau diambil (berat dari sensus_df). Kemudian hasilnya akan ditampung kedalam variable y_train.\n",
    "4. Menampilkan hasil pembuatan dari x_train & y_train."
   ]
  },
  {
   "cell_type": "code",
   "execution_count": 2,
   "metadata": {},
   "outputs": [
    {
     "name": "stdout",
     "output_type": "stream",
     "text": [
      "X_train:\n",
      "[[158 'pria']\n",
      " [170 'pria']\n",
      " [183 'pria']\n",
      " [191 'pria']\n",
      " [155 'wanita']\n",
      " [163 'wanita']\n",
      " [180 'wanita']\n",
      " [158 'wanita']\n",
      " [170 'wanita']]\n",
      "\n",
      "y_train: [64 86 84 80 49 59 67 54 67]\n"
     ]
    }
   ],
   "source": [
    "import numpy as np\n",
    "# mengimport numpy\n",
    "\n",
    "X_train = np.array(sensus_df[['tinggi', 'jk']])\n",
    "# membentuk array berisikan features\n",
    "\n",
    "y_train = np.array(sensus_df['berat'])\n",
    "# membentuk array berisikan target\n",
    "\n",
    "print(f'X_train:\\n{X_train}\\n')\n",
    "# menampilkan data features\n",
    "\n",
    "print(f'y_train: {y_train}')\n",
    "# menampilkan data target"
   ]
  },
  {
   "cell_type": "markdown",
   "metadata": {},
   "source": [
    "Disini KNN akan digunakan untuk melakukan prediksi berat badan berdasarkan data tinggi badan dan jenis kelamin. Dan karena disini yang diprediksi merupakan nilai continuous dan bukan kategory, maka kasus ini termasuk dalam regression task."
   ]
  },
  {
   "cell_type": "markdown",
   "metadata": {},
   "source": [
    "#### Preprocess Dataset: Konversi Label menjadi Numerik Biner"
   ]
  },
  {
   "cell_type": "markdown",
   "metadata": {},
   "source": [
    "Dari pembelajaran sebelumnya sudah diketahui bahwa KNN akan melakukan prediksi berdasarkan sejumlah tetangga terdekat, dimana data terdekat ditentukan berdasarkan jarak dengan memanfaatkan Euclidean Distance. Jadi data features yang dimiliki harus berupa data numeric agar dapat dilakukan kalkulasi jarak antar data pointnya. \n",
    "\n",
    "Karena pada data yang dimiliki data featuresnya ada yang bukan data numeric yaitu data jenis kelamin, maka data ini perlu dilakukan konversi menjadi data numeric terlebih dahulu.\n",
    "\n",
    "Transpose berguna untuk mengubah posisi baris menjadi kolom dan kolom menjadi baris. Untuk mengetahui perbedaannya pada code dibawah akan ditampilkan data X_train sebelum dilakukan transpose dan setelah dilakukan transpose.\n",
    "\n",
    "Jika dilihat pada data x_train yang belom dilakukan transpose, posisi baris mengindikasikan instance sedangkan posisi kolomnya mengindikasikan features. Kolom pertama berisikan features pertama (tinggi badan) sedangkan kolom kedua berisikan features kedua (jenis kelamin).\n",
    "\n",
    "Dan kali ini akan dilakukan perubahan pada data yaitu mengubah posisi featuresnya dari kolom menjadi baris, maka dilakukan transpose.\n",
    "\n",
    "**Cara Melakukan Transpose:**\n",
    "1. Melakukan proses transpose terhadap x_train dengan np.transpose yang disertai dengan data yang akan dilakukan transpose. Kemudian hasilnya akan ditampung kedalam variable X_train_transposed.\n"
   ]
  },
  {
   "cell_type": "code",
   "execution_count": 3,
   "metadata": {},
   "outputs": [
    {
     "name": "stdout",
     "output_type": "stream",
     "text": [
      "X_train:\n",
      "[[158 'pria']\n",
      " [170 'pria']\n",
      " [183 'pria']\n",
      " [191 'pria']\n",
      " [155 'wanita']\n",
      " [163 'wanita']\n",
      " [180 'wanita']\n",
      " [158 'wanita']\n",
      " [170 'wanita']]\n",
      "\n",
      "X_train_transposed:\n",
      "[[158 170 183 191 155 163 180 158 170]\n",
      " ['pria' 'pria' 'pria' 'pria' 'wanita' 'wanita' 'wanita' 'wanita'\n",
      "  'wanita']]\n"
     ]
    }
   ],
   "source": [
    "X_train_transposed = np.transpose(X_train)\n",
    "# melakukan proses transpose\n",
    "\n",
    "print(f'X_train:\\n{X_train}\\n')\n",
    "# menampilkan data x_train yang belum di transpose\n",
    "\n",
    "print(f'X_train_transposed:\\n{X_train_transposed}')\n",
    "# menampilkan data x_train yang sudah di transpose"
   ]
  },
  {
   "cell_type": "markdown",
   "metadata": {},
   "source": [
    "Setelah melakukan proses transpose, selanjutnya akan dilakukan proses konversi untuk mengubah nilai pria dan wanita menjadi nilai biner 0 dan 1.\n",
    "\n",
    "**Cara Mengkonversikannya:**\n",
    "1. Mengimport labelBinarizer dengan from sklearn.preprocessing import LabelBinarizer\n",
    "2. Membentuk objek dari class binarizer dengan memanggil LabelBinarizer() dan hasilnya akan ditampung kedalam variable lb.\n",
    "3. Memanggil lb.fit_transform yang disetai dengan 1 buah parameter yaitu data yang akan diterapkan transform (x_train_transposed[1], index ke 1 karena nilai jenis kelamin terdapat pada index ke 1 sedangkan index ke 0 merupakan tinggi badan)menggunakan labelBinarizer, kemudian hasilnya ditampung kedalam variable jk_binarised."
   ]
  },
  {
   "cell_type": "code",
   "execution_count": 4,
   "metadata": {},
   "outputs": [
    {
     "name": "stdout",
     "output_type": "stream",
     "text": [
      "jk: ['pria' 'pria' 'pria' 'pria' 'wanita' 'wanita' 'wanita' 'wanita' 'wanita']\n",
      "\n",
      "jk_binarised:\n",
      "[[0]\n",
      " [0]\n",
      " [0]\n",
      " [0]\n",
      " [1]\n",
      " [1]\n",
      " [1]\n",
      " [1]\n",
      " [1]]\n"
     ]
    }
   ],
   "source": [
    "from sklearn.preprocessing import LabelBinarizer\n",
    "# melakukan import label binarizer\n",
    "\n",
    "lb = LabelBinarizer()\n",
    "# membuat objek class binarizer\n",
    "\n",
    "jk_binarised = lb.fit_transform(X_train_transposed[1])\n",
    "# melakukan proses tranform nilai jenis kelamin\n",
    "\n",
    "print(f'jk: {X_train_transposed[1]}\\n')\n",
    "# menampilkan data jenis kelamin sebelum dilakukan binarizer\n",
    "\n",
    "print(f'jk_binarised:\\n{jk_binarised}')\n",
    "# menampilkan data jenis kelamin sedudah dilakukan binarizer"
   ]
  },
  {
   "cell_type": "markdown",
   "metadata": {},
   "source": [
    "Dari hasil data jenis kemalin yang sudah dijadikan nilai biner, terlihat bahwa data yang dimiliki berbentuk array 2 dimesi. Oleh karena itu datanya perlu diubah menjadi array 1 dimensi dengan menggunakan flatten.\n",
    "\n",
    "**Cara Melakukan Flatten:**\n",
    "* Melakukan flatten dengan menggunakan jk_binarised.flatten, kemudian hasilnya akan ditampung kedalam variable jk_binarised. Setelah itu hasilnya akan ditampilkan."
   ]
  },
  {
   "cell_type": "code",
   "execution_count": 5,
   "metadata": {},
   "outputs": [
    {
     "data": {
      "text/plain": [
       "array([0, 0, 0, 0, 1, 1, 1, 1, 1])"
      ]
     },
     "execution_count": 5,
     "metadata": {},
     "output_type": "execute_result"
    }
   ],
   "source": [
    "jk_binarised = jk_binarised.flatten()\n",
    "# melakukan proses flatten\n",
    "\n",
    "jk_binarised\n",
    "# menampilkan hasilnya"
   ]
  },
  {
   "cell_type": "markdown",
   "metadata": {},
   "source": [
    "Setelah diubah menjadi nilai biner dan dijadikan array 2 dimensi, maka data yang sebelumnya sudah diubah kolom dan barisnya akan dikembalikan ke posisi sebelumnya dengan melakukan transpose kembali. "
   ]
  },
  {
   "cell_type": "code",
   "execution_count": 6,
   "metadata": {},
   "outputs": [
    {
     "name": "stdout",
     "output_type": "stream",
     "text": [
      "X_train_transposed:\n",
      "[[158 170 183 191 155 163 180 158 170]\n",
      " [0 0 0 0 1 1 1 1 1]]\n",
      "\n",
      "X_train:\n",
      "[[158 0]\n",
      " [170 0]\n",
      " [183 0]\n",
      " [191 0]\n",
      " [155 1]\n",
      " [163 1]\n",
      " [180 1]\n",
      " [158 1]\n",
      " [170 1]]\n"
     ]
    }
   ],
   "source": [
    "X_train_transposed[1] = jk_binarised\n",
    "# memasukan data yang sudah diubah menjadi data biner kedalamx_transposed index pertama\n",
    "\n",
    "X_train = X_train_transposed.transpose()\n",
    "# mengembalikan data yang telah di transpose ke posisi semula\n",
    "\n",
    "print(f'X_train_transposed:\\n{X_train_transposed}\\n')\n",
    "# menampilkan data yang telah di transpose\n",
    "\n",
    "print(f'X_train:\\n{X_train}')\n",
    "# menampilkan data yang sudah dikembalikan seperti semula"
   ]
  },
  {
   "cell_type": "markdown",
   "metadata": {},
   "source": [
    "Dengan ini data yang dimiliki sudah siap untuk dilakukan training model."
   ]
  },
  {
   "cell_type": "markdown",
   "metadata": {},
   "source": [
    "### Training KNN Regression Model"
   ]
  },
  {
   "cell_type": "markdown",
   "metadata": {},
   "source": [
    "Dalam proses training kali ini model machine learning yang akan digunakan adalah KNN. Regression task biasa disebut juga sebagai Regressor.\n",
    "\n",
    "**Cara Melakukan Training Model dengan KNN:**\n",
    "1. Mengimport estimator classnya yaitu KNN dengan memanggil from sklearn.neighbors import KNeighborsRegressor, dalam kasus ini yang diimport adalah KNeighborsRegressor bukan Classifier.\n",
    "2. Menentukan jumlah tetangga terdekat untuk melakukan proses prediksi, jumlah yang ditentukan kali ini adalah 3.\n",
    "3. Membentuk objek modelnya dengan memanggil KNeighborsRegressor yang disertai dengan 1 buah parameter yaitu n_neighbors yang berisikan variable K (jumlah tetangga terdekat yang telah ditentukan).\n",
    "4. Setelah objek modelnya terbentuk, setelahnya dilakukan proses training model dengan memanggil model.fit yang disertai dengan 2 buah parameter yaitu x_train dan y_train sebagai nilai features dan targetnya.  "
   ]
  },
  {
   "cell_type": "code",
   "execution_count": 7,
   "metadata": {},
   "outputs": [
    {
     "data": {
      "text/plain": [
       "KNeighborsRegressor(n_neighbors=3)"
      ]
     },
     "execution_count": 7,
     "metadata": {},
     "output_type": "execute_result"
    }
   ],
   "source": [
    "from sklearn.neighbors import KNeighborsRegressor\n",
    "# mengimport KNeighborsRegressor\n",
    "\n",
    "K = 3\n",
    "# menentukan jumlah tetangga terdekat\n",
    "\n",
    "model = KNeighborsRegressor(n_neighbors=K)\n",
    "# membentuk objek model untuk KNeighborsRegressor\n",
    "\n",
    "model.fit(X_train, y_train)\n",
    "# melakukan proses training"
   ]
  },
  {
   "cell_type": "markdown",
   "metadata": {},
   "source": [
    "### Prediksi Berat Badan"
   ]
  },
  {
   "cell_type": "markdown",
   "metadata": {},
   "source": [
    "Setelah melakukan training pada model Regressornya, selanjutnya akan dilakukan proses prediksi terhadap data berat badan yang baru dibentuk.\n",
    "\n",
    "Sebelum melakukan prediksi maka terlebih dahulu akan dipersiapkan data baru yang dibentuk.\n",
    "\n",
    "**Penjelasan Code:**\n",
    "* Membentuk data baru yang berisikan data tinggi dan jenis kelamin (155, 1) yang ditampung kedalam numpy array dengan menggunakan np.array([[155, 1]]). Kemudian data baru tersebut akan ditampaung kedalam variable x_new.\n",
    "* Menampilkan hasil dari data baru yang dibentuk."
   ]
  },
  {
   "cell_type": "code",
   "execution_count": 8,
   "metadata": {},
   "outputs": [
    {
     "data": {
      "text/plain": [
       "array([[155,   1]])"
      ]
     },
     "execution_count": 8,
     "metadata": {},
     "output_type": "execute_result"
    }
   ],
   "source": [
    "X_new = np.array([[155, 1]])\n",
    "# membentuk data baru dalam nump array\n",
    "\n",
    "X_new\n",
    "# menampilkan data baru"
   ]
  },
  {
   "cell_type": "markdown",
   "metadata": {},
   "source": [
    "Setelah data baru siap maka dilakukan proses prediksi menggunakna model machine learning yang telah di training sebelumnya.\n",
    "\n",
    "**Penjelasan Code:**\n",
    "* Melakukan prediksi berat badan dari data baru dengan memanggil model.predict yang disertai dengan data yang akan dilakukan prediksi. Kemudian hasilnya akan ditampung kedalam variable y_pred.\n",
    "* Menampilkan hasil prediksi berat badan dari x_new (data baru)."
   ]
  },
  {
   "cell_type": "code",
   "execution_count": 9,
   "metadata": {},
   "outputs": [
    {
     "data": {
      "text/plain": [
       "array([55.66666667])"
      ]
     },
     "execution_count": 9,
     "metadata": {},
     "output_type": "execute_result"
    }
   ],
   "source": [
    "y_pred = model.predict(X_new)\n",
    "# melakukan prediksi terhadap data baru\n",
    "\n",
    "y_pred\n",
    "# menampilkan hasil prediksi"
   ]
  },
  {
   "cell_type": "markdown",
   "metadata": {},
   "source": [
    "### Evaluasi KNN Regression Model"
   ]
  },
  {
   "cell_type": "markdown",
   "metadata": {},
   "source": [
    "Setelah melakukan prediksi terhadap data baru, maka setelahnya akan dilakukan proses evaluasi terhadap machine learning.\n",
    "\n",
    "Sebelum melakukan evaluasi akan disiapkan dulu testing setnya.\n",
    "\n",
    "**Menyiapkan Testing Set:**\n",
    "1. Memasukan data features kedalam numpy array dengan menggunakan np.array yang disertai dengan datanya, kemudian hasilnya ditampung kedalam variable x_test.\n",
    "2. Memasukan data target kedalam numpy array dengan menggunakan np.array yang disertai dengan datanya, kemudian hasilnya ditampung kedalam variable y_test."
   ]
  },
  {
   "cell_type": "code",
   "execution_count": 10,
   "metadata": {},
   "outputs": [
    {
     "name": "stdout",
     "output_type": "stream",
     "text": [
      "X_test:\n",
      "[[168   0]\n",
      " [180   0]\n",
      " [160   1]\n",
      " [169   1]]\n",
      "\n",
      "y_test: [65 96 52 67]\n"
     ]
    }
   ],
   "source": [
    "X_test = np.array([[168, 0], [180, 0], [160, 1], [169, 1]])\n",
    "# menyiapkan data features untuk testing set\n",
    "\n",
    "y_test = np.array([65, 96, 52, 67])\n",
    "# menyiapkan data target untuk testing set\n",
    "\n",
    "print(f'X_test:\\n{X_test}\\n')\n",
    "# menampilkan data features\n",
    "\n",
    "print(f'y_test: {y_test}')\n",
    "# menampilkan data target"
   ]
  },
  {
   "cell_type": "markdown",
   "metadata": {},
   "source": [
    "Setelah testing set siap maka akan dilakukan prediksi terhadap testing set ini dengan menggunakan model.predict yang disertai data features yang akan diprediksi. kemudian hasilnya akan ditampung kedalam variable y_pred dan ditampilkan."
   ]
  },
  {
   "cell_type": "code",
   "execution_count": 11,
   "metadata": {},
   "outputs": [
    {
     "data": {
      "text/plain": [
       "array([70.66666667, 79.        , 59.        , 70.66666667])"
      ]
     },
     "execution_count": 11,
     "metadata": {},
     "output_type": "execute_result"
    }
   ],
   "source": [
    "y_pred = model.predict(X_test)\n",
    "# melakukan prediksi terhadap data features testing set\n",
    "\n",
    "y_pred\n",
    "# menampilkan hasil prediksi"
   ]
  },
  {
   "cell_type": "markdown",
   "metadata": {},
   "source": [
    "**Berikut ini adalah beberapa metrics evaluasi yang dapat digunakan:**"
   ]
  },
  {
   "cell_type": "markdown",
   "metadata": {},
   "source": [
    "#### 1. Coefficient of Determination atau $R^2$"
   ]
  },
  {
   "cell_type": "markdown",
   "metadata": {},
   "source": [
    "Referensi: https://en.wikipedia.org/wiki/Coefficient_of_determination\n",
    "\n",
    "**Penjelasan Code:**\n",
    "1. Mengimport metrics Coefficient of Determination atau $𝑅^2$ dengan memanggil from sklearn.metrics import r2_score\n",
    "2. Melakukan evaluasi dengan memanggil r2_score disertai dengan 2 parameter yaitu data yang akan dievaluasi (y_test dan y_pred). Kemudian hasilnya akan ditampung kedalam variable r_squared.\n",
    "3. Menampilkan evaluasi"
   ]
  },
  {
   "cell_type": "code",
   "execution_count": 12,
   "metadata": {},
   "outputs": [
    {
     "name": "stdout",
     "output_type": "stream",
     "text": [
      "R-squared: 0.6290565226735438\n"
     ]
    }
   ],
   "source": [
    "from sklearn.metrics import r2_score\n",
    "# mengimport Coefficient of Determination\n",
    "\n",
    "r_squared = r2_score(y_test, y_pred)\n",
    "# melakukan perhitungan Coefficient of Determination\n",
    "\n",
    "print(f'R-squared: {r_squared}')\n",
    "# menampilkan hasil perhitungan"
   ]
  },
  {
   "cell_type": "markdown",
   "metadata": {},
   "source": [
    "#### 2. Mean Absolute Error (MAE) atau Mean Absolute Deviation (MAD)"
   ]
  },
  {
   "cell_type": "markdown",
   "metadata": {},
   "source": [
    "$MAE$ is the average of the absolute values of the errors of the predictions (nilai rata-rata absolute error dari prediksi).\n",
    "\n",
    "Referensi: https://en.wikipedia.org/wiki/Mean_absolute_error\n",
    "\n",
    "**Formula untuk MAE:**\n",
    "$MAE = \\frac{1}{n} \\sum_{i=1}^{n} |y_i - \\hat{y}_i|$\n",
    "\n",
    "* yi => merepresentasikan setiap nilai target yang ada dalam testing set.\n",
    "* $\\hat{y}_i$ => merepresentasikan nilai prediksi yang dihasilkan oleh model.\n",
    "* n => merepresentasikan jumlah data point.\n",
    "\n",
    "MAE akan menghitung selisih dari yi dan $\\hat{y}_i$, proses perhitungan ini memungkinkan untuk menghasilkan nilai positif (jika hasil prediksi lebih kecil dari yang seharusnya) / negatif (jika hasil prediksi lebih besar dari yang seharusnya). \n",
    "\n",
    "Untuk menghindari nilai negatif maka digunakan absolute function. Absolute function akan menghilangkan nilai negatif / semua nilai negatif akan dirubah menjadi positif. Kemudian hasilnya akan diakumulasikan dan dipangkatkan dengan n.\n",
    "\n",
    "**Cara Melakukan Perhitungan MAE pada SKLearn:**\n",
    "1. Melakukan import MAE dengan memanggil from sklearn.metrics import mean_absolute_error\n",
    "2. Melakukan perhitungan dengan menggunakan mean_absolute_error disertai dengan 2 parameter yaitu 2 data yang akan dievaluasi (y_test & y_pred). Kemudian hasil perhitungannya akan ditampung kedalam variable MAE.\n",
    "3. Menampilkan hasil perhitungannya."
   ]
  },
  {
   "cell_type": "code",
   "execution_count": 13,
   "metadata": {},
   "outputs": [
    {
     "name": "stdout",
     "output_type": "stream",
     "text": [
      "MAE: 8.333333333333336\n"
     ]
    }
   ],
   "source": [
    "from sklearn.metrics import mean_absolute_error\n",
    "# mengimport MAE\n",
    "\n",
    "MAE = mean_absolute_error(y_test, y_pred)\n",
    "# melakukan perhitungan MAE\n",
    "\n",
    "print(f'MAE: {MAE}')\n",
    "# menampilkan hasil perhitungan"
   ]
  },
  {
   "cell_type": "markdown",
   "metadata": {},
   "source": [
    "Karena MAE menghitung selisih nilai prediksi dengan nilai sebenarnya maka semakin sedikit / kecil nilai errornya maka kualitas modelnya semakin baik, sedangkan semakin banyak / besar nilai errornya maka kualitas modelnya semakin buruk."
   ]
  },
  {
   "cell_type": "markdown",
   "metadata": {},
   "source": [
    "#### 3. Mean Squared Error (MSE) atau Mean Squared Deviation (MSD)"
   ]
  },
  {
   "cell_type": "markdown",
   "metadata": {},
   "source": [
    "$MSE$ is the average of the squares of the errors of the predictions (rata-rata dari error kuadrat untuk prediksi).\n",
    "\n",
    "Referensi: https://en.wikipedia.org/wiki/Mean_squared_error\n",
    "\n",
    "**Formula untuk MSE:**\n",
    "\n",
    "$MSE = \\frac{1}{n} \\sum_{i=1}^{n} (y_i - \\hat{y}_i)^2$\n",
    "\n",
    "* yi => merepresentasikan setiap nilai target yang ada dalam testing set.\n",
    "* 𝑦̂𝑖  => merepresentasikan nilai prediksi yang dihasilkan oleh model.\n",
    "* n => merepresentasikan jumlah data point.\n",
    "\n",
    "MSE akan menghitung selisih dari yi dan 𝑦̂𝑖 , proses perhitungan ini memungkinkan untuk menghasilkan nilai positif (jika hasil prediksi lebih kecil dari yang seharusnya) / negatif (jika hasil prediksi lebih besar dari yang seharusnya).\n",
    "\n",
    "Untuk menghindari nilai negatif maka nilanya akan dipangkatkan 2. Kemudian hasil pemangkatannya akan diakumulasikan kemudian akan dibagi degnan n.\n",
    "\n",
    "**Cara Melakukan Perhitungan MAE pada SKLearn:**\n",
    "\n",
    "1. Melakukan import MSE dengan memanggil from sklearn.metrics import mean_squared_error\n",
    "2. Melakukan perhitungan dengan menggunakan mean_squared_error disertai dengan 2 parameter yaitu 2 data yang akan dievaluasi (y_test & y_pred). Kemudian hasil perhitungannya akan ditampung kedalam variable MSE.\n",
    "3. Menampilkan hasil perhitungannya."
   ]
  },
  {
   "cell_type": "code",
   "execution_count": 14,
   "metadata": {},
   "outputs": [
    {
     "name": "stdout",
     "output_type": "stream",
     "text": [
      "MSE: 95.8888888888889\n"
     ]
    }
   ],
   "source": [
    "from sklearn.metrics import mean_squared_error\n",
    "# mengimport MAE\n",
    "\n",
    "MSE = mean_squared_error(y_test, y_pred)\n",
    "# melakukan perhitungan MAE\n",
    "\n",
    "print(f'MSE: {MSE}')\n",
    "# menampilkan hasil perhitungan"
   ]
  },
  {
   "cell_type": "markdown",
   "metadata": {},
   "source": [
    "Sama seperti MAE, MSE menghitung selisih nilai prediksi dengan nilai sebenarnya maka semakin sedikit / kecil nilai errornya maka kualitas modelnya semakin baik, sedangkan semakin banyak / besar nilai errornya maka kualitas modelnya semakin buruk.\n",
    "\n",
    "Bila dibandingkan dengan MAE, nilai MSE selalu akan lebih besar karena untuk setiap nilai MSE akan dipangkatkan 2."
   ]
  },
  {
   "cell_type": "markdown",
   "metadata": {},
   "source": [
    "### Permasalahan Scaling pada Features"
   ]
  },
  {
   "cell_type": "markdown",
   "metadata": {},
   "source": [
    "Dalam dataset yang digunakan kali ini terdapat 2 features yaitu tinggi badan dan jenis kelamin, tinggi badan direpresentasikan dalam centimeter sedangkan jenis kelamin direpresentasikan dalam nilai biner 0 dan 1. \n",
    "\n",
    "Padahal untuk tinggi badan dapat diukur dengan satuan pengukuran lain misalnnya milimeter / meter. Disini akan dipelajari apakah perbedaan satuan pengukuran akan berdampak pada konsistensi hasil kalkulasi euclidean distance nya.\n",
    "\n",
    "Untuk memperjelas sebelumnya ukuran dataset yang dimiliki akan diperkecil terlebih dahulu menjadi 2 instances. Baru setelahnya akan dilakukan 2 eksperimen:\n",
    "1. Menggunakan mm sebagai satuan pengukuran tinggi badan.\n",
    "2. Menggunakan m sebagai satuan pengukuran tinggi badan.\n",
    "\n",
    "**Penjelasan Code:**\n",
    "1. Mengimport euclidean distance dengan memanggil from scipy.spatial.distance import euclidean\n",
    "2. Menyiapkan dataset x_train yang berisikan sekumpulan nilai features untuk training set, dan x_new yang berisikan sekumpulan features untuk data point yang akan diprediksi. Namun kali ini satuan pengukuran untuk tinggi badannya menggunakan milimeter.\n",
    "3. Melakukan pengukuran euclidean distance dengan menggunakan [euclidean(X_new[0], d) for d in X_train]"
   ]
  },
  {
   "cell_type": "code",
   "execution_count": 15,
   "metadata": {},
   "outputs": [
    {
     "data": {
      "text/plain": [
       "[60.0, 40.01249804748511]"
      ]
     },
     "execution_count": 15,
     "metadata": {},
     "output_type": "execute_result"
    }
   ],
   "source": [
    "from scipy.spatial.distance import euclidean\n",
    "# mengimport euclidean distance\n",
    "\n",
    "# tinggi dalam milimeter\n",
    "X_train = np.array([[1700, 0], [1600, 1]])\n",
    "X_new = np.array([[1640, 0]])\n",
    "# menyiapkan dataset dalam milimeter\n",
    "\n",
    "[euclidean(X_new[0], d) for d in X_train]\n",
    "# melakukan pengukuran euclidean distance"
   ]
  },
  {
   "cell_type": "markdown",
   "metadata": {},
   "source": [
    "Dari hasil perhitungan terdapat 2 hasil:\n",
    "1. Hasil yang pertama merupakan jarak antara data point yang baru dengan data point yang pertama pada training set.\n",
    "2. Hasil yang kedua merupakan jarak antara data point yang baru dengan data kedua pada training set.\n",
    "\n",
    "Pada eksperimen pertama dapat terlihat bahwa data point yang baru lebih dekat dengan data point kedua bila dibandingkan dengan data point pertama.\n",
    "\n",
    "Selanjutnya akan dilakukan eksperimen kedua menggunakan data yang sama namun berbeda satuan pengukurannya. Satuan pengukuran yang akan digunakan pada eksperimen kedua adalah meter. \n",
    "\n",
    "**Penjelasan Code:**\n",
    "1. Mengimport euclidean distance dengan memanggil from scipy.spatial.distance import euclidean\n",
    "2. Menyiapkan dataset x_train yang berisikan sekumpulan nilai features untuk training set, dan x_new yang berisikan sekumpulan features untuk data point yang akan diprediksi. Namun kali ini satuan pengukuran untuk tinggi badannya menggunakan meter.\n",
    "3. Melakukan pengukuran euclidean distance dengan menggunakan [euclidean(X_new[0], d) for d in X_train]"
   ]
  },
  {
   "cell_type": "code",
   "execution_count": 16,
   "metadata": {},
   "outputs": [
    {
     "data": {
      "text/plain": [
       "[0.06000000000000005, 1.0007996802557442]"
      ]
     },
     "execution_count": 16,
     "metadata": {},
     "output_type": "execute_result"
    }
   ],
   "source": [
    "# tinggi dalam meter\n",
    "X_train = np.array([[1.7, 0], [1.6, 1]])\n",
    "X_new = np.array([[1.64, 0]])\n",
    "# menyiapkan dataset dalam meter\n",
    "\n",
    "[euclidean(X_new[0], d) for d in X_train]\n",
    "# melakukan pengukuran euclidean distance"
   ]
  },
  {
   "cell_type": "markdown",
   "metadata": {},
   "source": [
    "Dari hasil perhitungan terdapat 2 hasil:\n",
    "\n",
    "1. Hasil yang pertama merupakan jarak antara data point yang baru dengan data point yang pertama pada training set.\n",
    "2. Hasil yang kedua merupakan jarak antara data point yang baru dengan data kedua pada training set.\n",
    "\n",
    "Pada eksperimen pertama dapat terlihat bahwa data point yang baru lebih dekat dengan data point pertama bila dibandingkan dengan data point kedua.\n",
    "\n",
    "Dari hasil kedua eksperimen yang dilakukan ditemui adanya ketidak konsistenan dalam pengukuran jarak meskipun menggunakan dataset yang sama persis, namun hanya berbeda satuan pengukurannya saja."
   ]
  },
  {
   "cell_type": "markdown",
   "metadata": {},
   "source": [
    "### Menerapkan Standard Scaler (Standard Score atau Z-Score)"
   ]
  },
  {
   "cell_type": "markdown",
   "metadata": {},
   "source": [
    "Untuk mengatasi permasalahan scalling pada features dapat digunakan standard scaler. Menerapkan Standard scaler atau Z-Score yang umum ditemui dalam bidang statistika.\n",
    "\n",
    "Standardize features by removing the mean and scaling to unit variance.\n",
    "\n",
    "Referensi: https://en.wikipedia.org/wiki/Standard_score\n",
    "\n",
    "**Formula:**\n",
    "\n",
    "$z = \\frac{x - \\bar{x}}{S}$\n",
    "\n",
    "* x = nilai features\n",
    "* $\\bar{x}$ = rata-rata nilai features\n",
    "* s = nilai standard deviation dari sekumpulan nilai features tersebut\n",
    "\n",
    "Dengan ini standard scaler akan diterapkan pada 2 eksperimen yang telah dilakukan sebelumnya. \n",
    "\n",
    "**Penjelasan Code:**\n",
    "1. Mengimport class standard scaler dengan memanggil from sklearn.preprocessing import StandardScaler\n",
    "2. Membuat objek class nya dengan memanggil StandardScaler(), kemudian hasilnya akan ditampung kedalam variable ss"
   ]
  },
  {
   "cell_type": "code",
   "execution_count": 17,
   "metadata": {},
   "outputs": [],
   "source": [
    "from sklearn.preprocessing import StandardScaler\n",
    "\n",
    "ss = StandardScaler()"
   ]
  },
  {
   "cell_type": "markdown",
   "metadata": {},
   "source": [
    "Setelah mengimport standard scaler maka selanjutnya barulah diterapkannya standard scaler pada kedua eksperimen yang telah dilakukan. Penerapan standard scaler akan dilakukan pada eksperimen pertama terlebih (satuan milimeter) dahulu.\n",
    "\n",
    "**Penjelasan Code:**\n",
    "1. Membentuk nilai features x_train\n",
    "2. Menerapkan standard scaler dengan menggunakan ss.fit_transform yang diikuti oleh data yang akan diterapkan standard scaler (x_train), kemudian hasilnya akan ditampung kedalam variable x_train_scaled.\n",
    "3. Menampilkan hasil x_train_scaled. \n",
    "4. Membentuk nilai features x_new\n",
    "5. Menerapkan standard scaler dengan menggunakan ss.transform yang diikuti oleh data yang akan diterapkan standard scaler (x_new), namun kali ini tidak perlu memanggil fit lagi karena proses fit nya hanya dikenakan pada x_train saja sedangkan proses transformnya akan dikenakan pada x_train dan x_new. Kemudian hasilnya akan ditampung kedalam variable x_new_scaled.\n",
    "6. Menampilkan hasil x_new_scaled. \n",
    "7. Menghitung jarak dengan euclidean distance"
   ]
  },
  {
   "cell_type": "code",
   "execution_count": 20,
   "metadata": {},
   "outputs": [
    {
     "name": "stdout",
     "output_type": "stream",
     "text": [
      "X_train_scaled:\n",
      "[[ 1. -1.]\n",
      " [-1.  1.]]\n",
      "\n",
      "X_new_scaled: [[-0.2 -1. ]]\n",
      "\n",
      "jarak: [1.2, 2.1540659228538015]\n"
     ]
    }
   ],
   "source": [
    "# tinggi dalam milimeter\n",
    "X_train = np.array([[1700, 0], [1600, 1]])\n",
    "# Membentuk nilai features x_train\n",
    "\n",
    "X_train_scaled = ss.fit_transform(X_train)\n",
    "# Menerapkan standard scaler\n",
    "\n",
    "print(f'X_train_scaled:\\n{X_train_scaled}\\n')\n",
    "# Menampilkan hasil\n",
    "\n",
    "X_new = np.array([[1640, 0]])\n",
    "# Membentuk nilai features x_new\n",
    "\n",
    "X_new_scaled = ss.transform(X_new)\n",
    "# Menerapkan standard scaler\n",
    "\n",
    "print(f'X_new_scaled: {X_new_scaled}\\n')\n",
    "# Menampilkan hasil\n",
    "\n",
    "jarak = [euclidean(X_new_scaled[0], d) for d in X_train_scaled]\n",
    "# Menghitung jarak dengan euclidean distance\n",
    "\n",
    "print(f'jarak: {jarak}')\n",
    "# Menampilkan hasil perhitungan euclidean distance"
   ]
  },
  {
   "cell_type": "markdown",
   "metadata": {},
   "source": [
    "Hasil perhitungan jarak yang telah diterapkan standard scaler sudah tidak lagi memiliki satuan pengukuran. Dan dari hasil perhitungan dapat dilihat bahwa data point yang baru lebih dekat dengan data point pertama bila dibandingkan dengan data point kedua.\n",
    "\n",
    "Selanjutnya akan diterapkan standard scaler pada eksperimen kedua yang menggunakan satuan pengukuran meter.\n",
    "\n",
    "*Penjelasan code sama dengan yang sebelumnya.*"
   ]
  },
  {
   "cell_type": "code",
   "execution_count": 19,
   "metadata": {},
   "outputs": [
    {
     "name": "stdout",
     "output_type": "stream",
     "text": [
      "X_train_scaled:\n",
      "[[ 1. -1.]\n",
      " [-1.  1.]]\n",
      "\n",
      "X_new_scaled: [[-0.2 -1. ]]\n",
      "\n",
      "jarak: [1.2000000000000026, 2.1540659228538006]\n"
     ]
    }
   ],
   "source": [
    "# tinggi dalam meter\n",
    "X_train = np.array([[1.7, 0], [1.6, 1]])\n",
    "# Membentuk nilai features x_train\n",
    "\n",
    "X_train_scaled = ss.fit_transform(X_train)\n",
    "# Menerapkan standard scaler\n",
    "\n",
    "print(f'X_train_scaled:\\n{X_train_scaled}\\n')\n",
    "# Menampilkan hasil\n",
    "\n",
    "X_new = np.array([[1.64, 0]])\n",
    "# Membentuk nilai features x_new\n",
    "\n",
    "X_new_scaled = ss.transform(X_new)\n",
    "# Menerapkan standard scaler\n",
    "\n",
    "print(f'X_new_scaled: {X_new_scaled}\\n')\n",
    "# Menampilkan hasil\n",
    "\n",
    "jarak = [euclidean(X_new_scaled[0], d) for d in X_train_scaled]\n",
    "# Menghitung jarak dengan euclidean distance\n",
    "\n",
    "print(f'jarak: {jarak}')\n",
    "# Menampilkan hasil perhitungan euclidean distance"
   ]
  },
  {
   "cell_type": "markdown",
   "metadata": {},
   "source": [
    "Jika dari hasil perhitungan dapat dilihat bahwa data point yang baru lebih dekat dengan data point pertama bila dibandingkan dengan data point kedua. Dan dapat dilihat bahwa hasil perhitungan eksperimen kedua memiliki hasil yang mendekati / sama dengan hasil perhitungan eksperimen pertama.\n",
    "\n",
    "Jadi dapat disimpulkan dengan menggunakan standard scaler maka dapat menjaga konsistensi hasil perhitungan euclidean distance."
   ]
  },
  {
   "cell_type": "markdown",
   "metadata": {},
   "source": [
    "### Menerapkan Features Scaling pada KNN"
   ]
  },
  {
   "cell_type": "markdown",
   "metadata": {},
   "source": [
    "#### Dataset"
   ]
  },
  {
   "cell_type": "markdown",
   "metadata": {},
   "source": [
    "Kali ini akan dilakukan kembali proses training dan evaluasi model KNN yang sudah dilakukan sebelumnya, namun kali ini akan diterapkan features scaling. Dan features scaling yang akan diterapkan adalah standard scaler.\n",
    "\n",
    "**Penjelasan Code:**\n",
    "1. Menampung sekumpulan nilai features untuk training set dalam numpy array dan hasilnya ditampung kedalam variable x_train.\n",
    "2. Menampung sekumpulan nilai target untuk training set dalam numpy array dan hasilnya ditampung kedalam variable y_train.\n",
    "3. Menampung sekumpulan nilai features untuk testing set dalam numpy array dan hasilnya ditampung kedalam variable x_test.\n",
    "4. Menampung sekumpulan nilai target untuk testing set dalam numpy array dan hasilnya ditampung kedalam variable y_test."
   ]
  },
  {
   "cell_type": "code",
   "execution_count": 22,
   "metadata": {},
   "outputs": [],
   "source": [
    "# Training Set\n",
    "X_train = np.array([[158, 0], [170, 0], [183, 0], [191, 0], [155, 1], [163, 1],\n",
    "                    [180, 1], [158, 1], [170, 1]])\n",
    "# membentuk nilai features untuk training set\n",
    "\n",
    "y_train = np.array([64, 86, 84, 80, 49, 59, 67, 54, 67])\n",
    "# membentuk nilai target untuk training set\n",
    "\n",
    "# Test Set\n",
    "X_test = np.array([[168, 0], [180, 0], [160, 1], [169, 1]])\n",
    "# membentuk nilai features untuk testing set\n",
    "\n",
    "y_test = np.array([65, 96, 52, 67])\n",
    "# membentuk nilai target untuk testing set"
   ]
  },
  {
   "cell_type": "markdown",
   "metadata": {},
   "source": [
    "#### Features Scaling (Standard Scaler)"
   ]
  },
  {
   "cell_type": "markdown",
   "metadata": {},
   "source": [
    "Setelah training dan testing set terbentuk akan dilakukan features scaling terlebih dahulu sebelum melakukan training dan evaluasi.\n",
    "\n",
    "**Penjelasan Code:**\n",
    "1. Menerapkan features scaling pada training set dengan memanggil ss.fit_transform diikuti degnan data yang akan dilakukan transformasi (x_train). Kemudian hasilnya akan ditampung kedalam variable x_train_scaled\n",
    "2. Menerapkan features scaling pada testing set dengan memanggil ss.ransform diikuti degnan data yang akan dilakukan transformasi (x_test). Kemudian hasilnya akan ditampung kedalam variable x_test_scaled\n",
    "3. Menampilkan hasilnya"
   ]
  },
  {
   "cell_type": "code",
   "execution_count": 24,
   "metadata": {},
   "outputs": [
    {
     "name": "stdout",
     "output_type": "stream",
     "text": [
      "X_train_scaled:\n",
      "[[-0.9908706  -1.11803399]\n",
      " [ 0.01869567 -1.11803399]\n",
      " [ 1.11239246 -1.11803399]\n",
      " [ 1.78543664 -1.11803399]\n",
      " [-1.24326216  0.89442719]\n",
      " [-0.57021798  0.89442719]\n",
      " [ 0.86000089  0.89442719]\n",
      " [-0.9908706   0.89442719]\n",
      " [ 0.01869567  0.89442719]]\n",
      "\n",
      "X_test_scaled:\n",
      "[[-0.14956537 -1.11803399]\n",
      " [ 0.86000089 -1.11803399]\n",
      " [-0.82260955  0.89442719]\n",
      " [-0.06543485  0.89442719]]\n",
      "\n"
     ]
    }
   ],
   "source": [
    "X_train_scaled = ss.fit_transform(X_train)\n",
    "# Menerapkan features scaling pada x_train\n",
    "\n",
    "X_test_scaled = ss.transform(X_test)\n",
    "# Menerapkan features scaling pada x_test\n",
    "\n",
    "print(f'X_train_scaled:\\n{X_train_scaled}\\n')\n",
    "# menampilkan hasil x_train yang sudah ditransformasi\n",
    "\n",
    "print(f'X_test_scaled:\\n{X_test_scaled}\\n')\n",
    "# menampilkan hasil x_test yang sudah ditransformasi"
   ]
  },
  {
   "cell_type": "markdown",
   "metadata": {},
   "source": [
    "#### Training & Evaluasi Model"
   ]
  },
  {
   "cell_type": "markdown",
   "metadata": {},
   "source": [
    "Setelah diterapkan features scaling, maka selanjutnya barulah akan dilakukan training model.\n",
    "\n",
    "**Penjelasan Code:**\n",
    "1. Melakukan training objek model dengan memanggil model.fit disertai dengan 2 parameter yaitu data yang akan ditraining (X_train_scaled, y_train).\n",
    "2. Melakukan prediksi dengan memanggil model.predict diikuti dengan data features yang akan diprediksi. Kemudian hasilnya akan ditampung kedalam variable y_pred.\n",
    "3. Menghitung nilai errornya dengan MAE dengan menggunakan mean_absolute_error diikuti dengan 2 parameter yaitu data yang akan dievaluasi (y_test, y_pred).\n",
    "4. Menghitung nilai errornya dengan MSE dengan menggunakan mean_squared_error diikuti dengan 2 parameter yaitu data yang akan dievaluasi (y_test, y_pred).\n",
    "5. Menampilkan hasil perhitungan errornya."
   ]
  },
  {
   "cell_type": "code",
   "execution_count": null,
   "metadata": {},
   "outputs": [],
   "source": [
    "model.fit(X_train_scaled, y_train)\n",
    "# Melakukan training objek model\n",
    "\n",
    "y_pred = model.predict(X_test_scaled)\n",
    "# Melakukan prediksi\n",
    "\n",
    "MAE = mean_absolute_error(y_test, y_pred)\n",
    "# Menghitung MAE \n",
    "\n",
    "MSE = mean_squared_error(y_test, y_pred)\n",
    "# Menghitung MSE\n",
    "\n",
    "print(f'MAE: {MAE}')\n",
    "# Menampilkan hasil perhitungan MAE\n",
    "\n",
    "print(f'MSE: {MSE}')\n",
    "# Menampilkan hasil perhitungan MAE"
   ]
  },
  {
   "cell_type": "markdown",
   "metadata": {},
   "source": [
    "Jika dibandingkan dengan hasil perhitungan tanpa menggunakan features scaling, maka hasil MAE dan MSE dari model yang sudah diterapkan features scaling lebih kecil. Artinya model yang dihasilkan akan lebih baik jika sudah diterapkan features scaling."
   ]
  }
 ],
 "metadata": {
  "kernelspec": {
   "display_name": "Python 3",
   "language": "python",
   "name": "python3"
  },
  "language_info": {
   "codemirror_mode": {
    "name": "ipython",
    "version": 3
   },
   "file_extension": ".py",
   "mimetype": "text/x-python",
   "name": "python",
   "nbconvert_exporter": "python",
   "pygments_lexer": "ipython3",
   "version": "3.8.5"
  }
 },
 "nbformat": 4,
 "nbformat_minor": 4
}
