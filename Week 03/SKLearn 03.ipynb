{
 "cells": [
  {
   "cell_type": "markdown",
   "metadata": {},
   "source": [
    "# SKLearn 03 | Machine Learning Workflow dengan Scikit-Learn | Belajar Machine Learning Dasar"
   ]
  },
  {
   "cell_type": "markdown",
   "metadata": {},
   "source": [
    "##  03 Machine Learning Workflow dengan Scikit-Lear"
   ]
  },
  {
   "cell_type": "markdown",
   "metadata": {},
   "source": [
    "### Persiapan Dataset"
   ]
  },
  {
   "cell_type": "markdown",
   "metadata": {},
   "source": [
    "#### Load Sample Dataset : Iris Dataset"
   ]
  },
  {
   "cell_type": "code",
   "execution_count": 4,
   "metadata": {},
   "outputs": [],
   "source": [
    "from sklearn.datasets import load_iris\n",
    "\n",
    "iris = load_iris()\n",
    "# untuk memanggil dataset iris yang ditampung didalam variable bernama iris\n",
    "\n",
    "X = iris.data\n",
    "y = iris.target"
   ]
  },
  {
   "cell_type": "markdown",
   "metadata": {},
   "source": [
    "#### Splitting Dataset: Training & Testing Set"
   ]
  },
  {
   "cell_type": "code",
   "execution_count": 6,
   "metadata": {},
   "outputs": [],
   "source": [
    "from sklearn.model_selection import train_test_split\n",
    "# untuk melakukan spliting untuk training dan testing set pada dataset iris\n",
    "\n",
    "X_train, X_test, y_train, y_test = train_test_split(X, y, test_size=0.4, random_state=1)\n",
    "# parameter pertama adalah kumpulan features\n",
    "# parameter kedua adalah kumpulan nilai taretnya\n",
    "# parameter ketiga adalah ukuran untuk testing setnya, dan kali ini besarnya adalah 0.4 artinya testing setnya akan mengambil 40% dari total dataset\n",
    "# parameter keempat adalah untuk melakukan random setnya agar konsisten"
   ]
  },
  {
   "cell_type": "markdown",
   "metadata": {},
   "source": [
    "### Training Model"
   ]
  },
  {
   "cell_type": "markdown",
   "metadata": {},
   "source": [
    "Setelah membentuk testing dan training set, kemudian menentukan model machine learning yang akan digunakan.\n",
    "\n",
    "* Pada Scikit Learn, model machine learning dibentuk dari class yang dikenal dengan istilah estimator.\n",
    "* Setiap estimator akan mengimplementasikan dua method utama, yaitu fit() dan predict().\n",
    "* Method fit() digunakan untuk melakukan training model.\n",
    "* Method predict() digunakan untuk melakukan estimasi/prediksi dengan memanfaatkan trained model (model yang sudah di training sebelumnya)."
   ]
  },
  {
   "cell_type": "code",
   "execution_count": 8,
   "metadata": {},
   "outputs": [
    {
     "data": {
      "text/plain": [
       "KNeighborsClassifier(n_neighbors=3)"
      ]
     },
     "execution_count": 8,
     "metadata": {},
     "output_type": "execute_result"
    }
   ],
   "source": [
    "from sklearn.neighbors import KNeighborsClassifier\n",
    "# untuk mengimport modelnya / estimator classnya\n",
    "# yang akan digunakan kali ini adalah KNeighborsClassifier sebagai machine learning modelnya\n",
    "\n",
    "model = KNeighborsClassifier(n_neighbors=3)\n",
    "# untuk membentuk objek dari KNeighborsClassifier\n",
    "\n",
    "model.fit(X_train, y_train)"
   ]
  },
  {
   "cell_type": "markdown",
   "metadata": {},
   "source": [
    "Membentuk Objek pada KNeighborsClassifier\n",
    "* Untuk membentuk objek menggunakan KNeighborsClassifier membutuhkan 1 buah parameter, yaitu n_neighbors karena berasal dari KNeighborsClassifier \n",
    "* Dan parameternya harus ditentukan jumlah neighborsnya, disini ditentukan jumlahnya adalah 3\n",
    "* Setelah objek model terbentuk akan ditampung dalam variable model\n",
    "\n",
    "Objek model yang telah terbentuk ditraining menggunakan method fit. Proses training akan dilakukan menggunakan training set, karena itu dibutuhkan X_train dan y_train\n",
    "* X_train = berisi sekumpulan nilai features untuk training set\n",
    "* y_train = berisi sekumpulan nilai target untuk training set\n",
    "\n",
    "Setelah model dijalankan maka model tersebut akan dikenal sebagai train model / model yang telah di training"
   ]
  },
  {
   "cell_type": "markdown",
   "metadata": {},
   "source": [
    "### Evaluasi Model"
   ]
  },
  {
   "cell_type": "code",
   "execution_count": 9,
   "metadata": {},
   "outputs": [
    {
     "name": "stdout",
     "output_type": "stream",
     "text": [
      "Accuracy: 0.9833333333333333\n"
     ]
    }
   ],
   "source": [
    "from sklearn.metrics import accuracy_score\n",
    "# metrics yang kali ini akan digunakan adalah accuracy\n",
    "# digunakan untuk melakukan evaluasi, mengimport accuracy_score\n",
    "\n",
    "y_pred = model.predict(X_test)\n",
    "# untuk melakukan prediksi terhadap nilai features terhadap nilai yang terdapat pada testing set\n",
    "# hasil dari prediksi yang dilakukan akan ditampung dalam variable y_pred\n",
    "\n",
    "acc = accuracy_score(y_test, y_pred)\n",
    "# untuk memanggil accuracy_score untuk melakukan evaluasi\n",
    "# hasil dari accuracynya ditampung dalam variable acc\n",
    "# y_test merupakan nilai target yang terdapat pada testing set\n",
    "\n",
    "print(f'Accuracy: {acc}')\n",
    "# print nilai acc / accuracynya"
   ]
  },
  {
   "cell_type": "markdown",
   "metadata": {},
   "source": [
    "Training set digunakan untuk melakukan proses training model, sedangkan testing set digunakan untuk melakukan proses evaluasi / testing performa dari model yang telah ditraining sebelumnya.\n",
    "\n",
    "Untuk melakukan testing atau evaluasi terhadap suatu model terdapat beberapa metrics yang dapat digunakan yanng telah disediakan oleh sklearn. Proses evaluasi ini tujuannya adalah untuk membandingkan nilai target yang terdapat pada variable y_test dengan nilai prediksi yang terdapat pada variable y_test. Proses evaluasi dapat dilakukan dengan bebagai cara, namun disini cara evaluasinya menggunakan accuracy score."
   ]
  },
  {
   "cell_type": "markdown",
   "metadata": {},
   "source": [
    "### Pemanfaatan Trained Model"
   ]
  },
  {
   "cell_type": "code",
   "execution_count": 12,
   "metadata": {},
   "outputs": [
    {
     "data": {
      "text/plain": [
       "array([1, 2])"
      ]
     },
     "execution_count": 12,
     "metadata": {},
     "output_type": "execute_result"
    }
   ],
   "source": [
    "data_baru = [[5, 5, 3, 2], [2, 4, 3, 5]]\n",
    "# membentuk dataset yang baru\n",
    "# data baru terdiri dari 2 instace / 2 baris yang masing2 terdiri dari 4 buah features\n",
    "\n",
    "preds =  model.predict(data_baru)\n",
    "# untuk melakukan prediksi terhadap nilai features yang terdapat pada data baru\n",
    "# hasil prediksi tersebut akan ditampung dalam variable preds\n",
    "\n",
    "preds\n",
    "# untuk memanggil / menampilkan hasilnya"
   ]
  },
  {
   "cell_type": "markdown",
   "metadata": {},
   "source": [
    "Setelah train model dianggap cukup baik berdasarkan hasil dievaluasi, maka data tersebut dapat digunakan untuk melakukan prediksi terhadap data baru. Berbeda pada testing set, pada data baru hanya terdapat sekumpulan nilai features dan tidak terdapat data target. \n",
    "\n",
    "Untuk mendapatkan nilai target dari data baru maka dimanfaatkan training model yang sebelumnya terlah dievaluasi untuk melakukan prediksi terhadap nilai target dari sekumpulan nilai features yang ada. \n",
    "\n",
    "Penjelasan hasil dari prediksi nilai features data baru:\n",
    "* index pertama artinya dari instace yang pertama [5,5,3,2] diprediksi akan memiliki nilai target yaitu 1\n",
    "* index kedua artinya dari instance yang kedua [2,4,3,5] diprediksi akan memiliki nilai target yaitu 2\n",
    "\n",
    "Setelah mendapatkan prediksi nilai target, maka nilai target yang didapatkan harus dikonfirmasikan dengan nilai target_names nya. Maka perlu dilakukan pemanggilan nilai target_names yang akan dimapingkan dengan nilai hasil prediksi nilai taget yang telah didapatkan."
   ]
  },
  {
   "cell_type": "code",
   "execution_count": 13,
   "metadata": {},
   "outputs": [
    {
     "name": "stdout",
     "output_type": "stream",
     "text": [
      "Hasil Prediksi: ['versicolor', 'virginica']\n"
     ]
    }
   ],
   "source": [
    "pred_species = [iris.target_names[p] for p in preds] \n",
    "print(f'Hasil Prediksi: {pred_species}')"
   ]
  },
  {
   "cell_type": "markdown",
   "metadata": {},
   "source": [
    "Hasil konfirmasi nilai prediksi dengan target_names:\n",
    "* prediksi nilai target pertama dari nilai features / instace yang pertama [5,5,3,2] adalah masuk ke dalam kategori versicolor\n",
    "* prediksi nilai target kedua dari nilai features / instace yang pertama [2,4,5,3] adalah masuk ke dalam kategori virginica"
   ]
  },
  {
   "cell_type": "markdown",
   "metadata": {},
   "source": [
    "### Dump & Load Trained Model"
   ]
  },
  {
   "cell_type": "markdown",
   "metadata": {},
   "source": [
    "Train model yang telah disiapkan akan di deploy pada production. Untuk keperluan itu maka trained model perlu di export / di dump sebagai suatu file model. Untuk melakukan itu dapat digunakan module joblib."
   ]
  },
  {
   "cell_type": "markdown",
   "metadata": {},
   "source": [
    "#### Dumping Model Machine Learning menjadi file joblib"
   ]
  },
  {
   "cell_type": "code",
   "execution_count": 14,
   "metadata": {},
   "outputs": [
    {
     "data": {
      "text/plain": [
       "['iris_classifier_knn.joblib']"
      ]
     },
     "execution_count": 14,
     "metadata": {},
     "output_type": "execute_result"
    }
   ],
   "source": [
    "import joblib\n",
    "# harus diimport dulu untuk menggunakannnya \n",
    "\n",
    "joblib.dump(model, 'iris_classifier_knn.joblib')\n",
    "# untuk melakukan proeses dumping / loading model machine learningnya"
   ]
  },
  {
   "cell_type": "markdown",
   "metadata": {},
   "source": [
    "Proses untuk melakukan dumping dilakukan dengan method joblib.dump dan membutuhkan 2 parameter, yaitu:\n",
    "* parameter pertama = train model yang akan di dump\n",
    "* parameter kedua = nama file joblibnya (pada code diatas nama file joblibnya di set sebagai \"iris_classifier_knn.joblib\"\n",
    "\n",
    "Setelah code dijalankan maka akan membentuk sebuah file baru dengan nama yang telah ditentukan sebelumnya pada parameter kedua. File terebut muncul sebagai hasil dumping yang telah dilakukan terhadap model.\n",
    "\n",
    "Setelah itu proses deployment machine learning dapat dilakukan dengan mudah, dengan menempatkan file joblib yang telah dibuat dengan menempatkannya pada sever yang ada di production. "
   ]
  },
  {
   "cell_type": "markdown",
   "metadata": {},
   "source": [
    "#### Loading Model Machine Learning dari file joblib"
   ]
  },
  {
   "cell_type": "markdown",
   "metadata": {},
   "source": [
    "Pada production server akan di load file joblib yang telah dibuat sebelumnya menjadi model machine learning yang siap digunakan."
   ]
  },
  {
   "cell_type": "code",
   "execution_count": 18,
   "metadata": {},
   "outputs": [],
   "source": [
    "production_model = joblib.load('iris_classifier_knn.joblib')\n",
    "# untuk memanggil file joblib yang diinginkan menggunakan joblib.load diikuti dengan nama file joblib yang ingin di load\n",
    "# hasilnya ditampung kedalam variable production_model"
   ]
  },
  {
   "cell_type": "markdown",
   "metadata": {},
   "source": [
    "Setelah file joblib di load maka akan menghasilkan sebuah machine learning model yang sudah di training sebelumnya. Dan production model ini dapat digunakan untuk melakukan prediksi terhadap data-data baru yang ditemui di production."
   ]
  }
 ],
 "metadata": {
  "kernelspec": {
   "display_name": "Python 3",
   "language": "python",
   "name": "python3"
  },
  "language_info": {
   "codemirror_mode": {
    "name": "ipython",
    "version": 3
   },
   "file_extension": ".py",
   "mimetype": "text/x-python",
   "name": "python",
   "nbconvert_exporter": "python",
   "pygments_lexer": "ipython3",
   "version": "3.8.5"
  }
 },
 "nbformat": 4,
 "nbformat_minor": 4
}
