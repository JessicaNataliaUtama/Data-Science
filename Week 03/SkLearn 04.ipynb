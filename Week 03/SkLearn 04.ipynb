{
 "cells": [
  {
   "cell_type": "markdown",
   "metadata": {},
   "source": [
    "# SKLearn 04 | Data Preprocessing dengan Scikit-Learn | Belajar Machine Learning Dasar"
   ]
  },
  {
   "cell_type": "markdown",
   "metadata": {},
   "source": [
    "## Sample Dataset"
   ]
  },
  {
   "cell_type": "markdown",
   "metadata": {},
   "source": [
    "Dalam pembelajaran sebelumnya, dapat diketahui bahwa fase mempersiapkan dataset adalah tahapan yang paling membutuhkan waktu dan  banyak effort dalam suatu project data science / machine learning.\n",
    "\n",
    "Untuk mempersiapkan sample datasetnya diperlukan untuk mengimport numpy terlebih dahulu karena data yang akan digunakan akan di generate sebagai numpy array. Setelah mengimport numpy barulah akan dilakukan import untuk modul preprocessing. \n",
    "\n",
    "Pada sklearn sudah disediakan beberapa teknik data preprocessing yang umum ditemu, dan disini akan dipelajari beberapa diantaranya. "
   ]
  },
  {
   "cell_type": "code",
   "execution_count": 1,
   "metadata": {},
   "outputs": [
    {
     "data": {
      "text/plain": [
       "array([[ 2.1, -1.9,  5.5],\n",
       "       [-1.5,  2.4,  3.5],\n",
       "       [ 0.5, -7.9,  5.6],\n",
       "       [ 5.9,  2.3, -5.8]])"
      ]
     },
     "execution_count": 1,
     "metadata": {},
     "output_type": "execute_result"
    }
   ],
   "source": [
    "import numpy as np\n",
    "# untuk import numpy\n",
    "\n",
    "from sklearn import preprocessing\n",
    "# untuk melakukan import modul preprocessing\n",
    "\n",
    "sample_data = np.array([[2.1, -1.9, 5.5], \n",
    "                        [-1.5, 2.4, 3.5], \n",
    "                        [0.5, -7.9, 5.6],\n",
    "                        [5.9, 2.3, -5.8]])\n",
    "# dataset dummy yang digunakan untuk pembelajaran kali ini\n",
    "\n",
    "sample_data"
   ]
  },
  {
   "cell_type": "markdown",
   "metadata": {},
   "source": [
    "Jika diperhatikan, dataset dummy yang telah kita masukkan bisa dibilang adalah dataset features yang memiliki 4 instance (baris) dan juga terbagi dalam 3 features (kolom). Dan dataset ini ditampung dalam variable sample_data."
   ]
  },
  {
   "cell_type": "code",
   "execution_count": 2,
   "metadata": {},
   "outputs": [
    {
     "data": {
      "text/plain": [
       "(4, 3)"
      ]
     },
     "execution_count": 2,
     "metadata": {},
     "output_type": "execute_result"
    }
   ],
   "source": [
    "sample_data.shape\n",
    "# untuk menampilkan dimensi dari dataset"
   ]
  },
  {
   "cell_type": "markdown",
   "metadata": {},
   "source": [
    ".shape digunakan untuk menunjukkan dimensi yang dimiliki oleh dataset yang ada pada variable sample_data. Disini dapat dilihat dengan lebih jelas bahwa hasilnya adalah (4, 3) yang berarti bahwa dataset tersebut memiliki 4 baris dan 3 kolom. "
   ]
  },
  {
   "cell_type": "markdown",
   "metadata": {},
   "source": [
    "## Mempelajari Data Preprocessing"
   ]
  },
  {
   "cell_type": "markdown",
   "metadata": {},
   "source": [
    "### 1. Binarisation"
   ]
  },
  {
   "cell_type": "markdown",
   "metadata": {},
   "source": [
    "    Tujuan utama = untuk menghasilkan suatu data yang terdiri dari 2 nilai numeric saja, yaitu 0 & 1.\n",
    "    \n",
    "    Pertama-tama akan dilakukan pemanggilan terhadap dataset yang telah dibentuk sebelumnya (sample_data) untuk menampilkan kembali data yang ada."
   ]
  },
  {
   "cell_type": "code",
   "execution_count": 4,
   "metadata": {},
   "outputs": [
    {
     "data": {
      "text/plain": [
       "array([[ 2.1, -1.9,  5.5],\n",
       "       [-1.5,  2.4,  3.5],\n",
       "       [ 0.5, -7.9,  5.6],\n",
       "       [ 5.9,  2.3, -5.8]])"
      ]
     },
     "execution_count": 4,
     "metadata": {},
     "output_type": "execute_result"
    }
   ],
   "source": [
    "sample_data"
   ]
  },
  {
   "cell_type": "markdown",
   "metadata": {},
   "source": [
    "    Dataset yang dimiliki terdiri dari sekumpulan floating point beragam. Andaikan kita butuh untuk mengkonversi setiap \n",
    "    nilai numeric yang lebih besar dari 0.5 menjadi 1 dan sisanya dikonversikan menjadi 0. Dengan kebutuhan tersebut kita dapat menggunakan class Binarizer. \n",
    "    \n",
    "   **Cara menggunakannya :**\n",
    "   \n",
    "    1. Membantuk Objek Binarisationnya terlebih dahulu.\n",
    "       Caranya dapat dengan memanggil preprocessing.Binarizer yang diikuti 1 buah parameter yaitu parameter threshold yang   \n",
    "       nilainya di set di 0.5\n",
    "       Jika sudah dijalankan maka akan menghasilkan sebuah objek binarizer yang akan ditampung dalam variable preprocessor.\n",
    "       \n",
    "    2. Melakukan proses transformasi terhadap sample data yang dimiliki yaitu sample_data. \n",
    "       Caranya dapat dengan memanggil preprocessor (objek binarizer yang tadi telah dibuat) .transform, kemudian diikuti \n",
    "       oleh sample ataset yang akan dilakukan transformasi.\n",
    "       Dan hasil dari transformasi tersebut akan ditampung ke dalam variable binarysed_data.\n",
    "       "
   ]
  },
  {
   "cell_type": "code",
   "execution_count": 6,
   "metadata": {},
   "outputs": [
    {
     "data": {
      "text/plain": [
       "array([[1., 0., 1.],\n",
       "       [0., 1., 1.],\n",
       "       [0., 0., 1.],\n",
       "       [1., 1., 0.]])"
      ]
     },
     "execution_count": 6,
     "metadata": {},
     "output_type": "execute_result"
    }
   ],
   "source": [
    "preprocessor = preprocessing.Binarizer(threshold=0.5)\n",
    "# untuk membuat objek binarisationnya\n",
    "\n",
    "binarised_data = preprocessor.transform(sample_data)\n",
    "# untuk melakukan transformasi sample dataset yang dimiliki\n",
    "\n",
    "binarised_data\n",
    "# menampilkan isinya"
   ]
  },
  {
   "cell_type": "markdown",
   "metadata": {},
   "source": [
    "    Hasil dari binarisation ini hanya terdiri dari 2 nilai yaitu 1 & 0. \n",
    "    \n",
    "    Dimana batasannya ditentukan dari nilai threshold yang telah ditentukan sebelumnya, dimana nilainya adalah 0.5,\n",
    "    yang berarti :\n",
    "    Setiap nilai yang <= 0.5 akan dikonversikan menjadi 0.\n",
    "    Setiap nilai yang > 0.5 akan dikonversikan menjadi 1. \n",
    "    Dan untuk nilai-nilai yang sama dengan nilai thresholdnya maka akan dikonversikan menjadi nilai 0.\n",
    "    \n",
    "    Hasil dari binarisation juga dapat diartikan sebagai :\n",
    "    Nilai 1 dapat diperoleh dari nilai-nilai pada dataset yang memiliki nilai lebih besar (>) dari nilai thresholdnya. \n",
    "    Sedangkan nilai 0 dapat diperoleh dari nilai-nilai pada dataset yang memiliki  nilai lebih kecil / sama dengan (<=) \n",
    "    nilai thresholdnya."
   ]
  },
  {
   "cell_type": "markdown",
   "metadata": {},
   "source": [
    "### 2. Scaling"
   ]
  },
  {
   "cell_type": "markdown",
   "metadata": {},
   "source": [
    "    Tujuan utama = untuk menghasilkan suatu data numeric yang berada dalam rentang skala tertentu.\n",
    "    \n",
    "    Pertama-tama akan dilakukan pemanggilan terhadap dataset yang telah dibentuk sebelumnya (sample_data) untuk menampilkan kembali data yang ada."
   ]
  },
  {
   "cell_type": "code",
   "execution_count": 7,
   "metadata": {},
   "outputs": [
    {
     "data": {
      "text/plain": [
       "array([[ 2.1, -1.9,  5.5],\n",
       "       [-1.5,  2.4,  3.5],\n",
       "       [ 0.5, -7.9,  5.6],\n",
       "       [ 5.9,  2.3, -5.8]])"
      ]
     },
     "execution_count": 7,
     "metadata": {},
     "output_type": "execute_result"
    }
   ],
   "source": [
    "sample_data"
   ]
  },
  {
   "cell_type": "markdown",
   "metadata": {},
   "source": [
    "    Dataset yang dimiliki terdiri dari sekumpulan floating point beragam. Dapat dilihat bahwa rentang nilai yang terdapat \n",
    "    pada sample dataset yang telah dibentuk adalah mulai dari nilai -7.9 sebagai nilai yang terkecil sampai dengan \n",
    "    nilai 5.9 sebgai nilai yang terbesar. \n",
    "    \n",
    "    Misalkan kali ini dibutuhkan untuk mengkonversikan sekumpulan nilai numeric yang terdapat dalam dataset ke dalam rentang nilai mulai dari 0 sampai dengan 1. Untuk memenuhi kebutuhan tersebut dapat memanfaatkan class Scaler. Teknik Scaling sendiri memiliki berbagai macam, namum kali ini akan digunakan teknik yang paling sederhana yaitu MinMaxScaler.\n",
    "    \n",
    "   **Cara menggunakannya :**\n",
    "\n",
    "    1. Memanggil preprocessing.MinMaxScaler yang disertakan juga 1 parameter penting yaitu feature_range.\n",
    "       Parameter feature_range membutuhkan data yang bertipe tupple, yang akan memiliki 2 nilai.\n",
    "       Nilai tupple yang dibutuhkan oleh feature_range adalah nilai Min / nilai terkecil dari skala yang baru, dan \n",
    "       nilai Max / nilai terbesar dari skala yang baru. \n",
    "       \n",
    "       Kali ini nilai tupple yang di set adalah 0 & 1, nilai 0 mengindikasikan nilai terkecil sedangkan nilai 1\n",
    "       mengindikasikan nilai terbesar.\n",
    "       \n",
    "       Begitu memanggil preprocessing.MinMaxScaler maka akan terbentuk sebuah objek scaler baru yang ditampung dalam \n",
    "       variable preprocessor.\n",
    "\n",
    "    2. Objek scaler yang telah terbentuk akan di fit terhadap sample data yang dimiliki, dengan menggunakan \n",
    "       preprocessor.fit kemudian memasukan sample data (dataset yang dimiliki) sebagai parameternya.\n",
    "       \n",
    "    3. Setelah objek scaler yang dimiliki di fit, maka objek scaler dapat dilakukan untuk melakukan transformasi data.\n",
    "       Transformasi data kali ini akan dikenakan pada sample data yang dimiliki tadi.\n",
    "       Proses transformasi data dapat dilakukan dengan memanggil preprocessor.transform disertai 1 parameter yaitu\n",
    "       dataset yang akan dimasukan (sample data).\n",
    "       Kemudian hasil transformasi data yang telah dilakukan akan ditampung dalam variable scaled_data.\n",
    "       "
   ]
  },
  {
   "cell_type": "code",
   "execution_count": 10,
   "metadata": {},
   "outputs": [
    {
     "data": {
      "text/plain": [
       "array([[0.48648649, 0.58252427, 0.99122807],\n",
       "       [0.        , 1.        , 0.81578947],\n",
       "       [0.27027027, 0.        , 1.        ],\n",
       "       [1.        , 0.99029126, 0.        ]])"
      ]
     },
     "execution_count": 10,
     "metadata": {},
     "output_type": "execute_result"
    }
   ],
   "source": [
    "preprocessor = preprocessing.MinMaxScaler(feature_range=(0, 1))\n",
    "# memanggil MinMaxScaler untuk membuat objek scaler\n",
    "\n",
    "preprocessor.fit(sample_data)\n",
    "# untuk melakukan fit objek scaler dengan dataset\n",
    "\n",
    "scaled_data = preprocessor.transform(sample_data)\n",
    "# untuk melakukan transformasi data \n",
    "\n",
    "scaled_data\n",
    "# untuk menampilkan hasil datanya"
   ]
  },
  {
   "cell_type": "markdown",
   "metadata": {},
   "source": [
    "    Dari hasil dapat dilihat bahwa sekarang nilai terkecilnya adalah 0 dan nilai terbesarnya adalah 1. \n",
    "    Dan nilai-nilai tersebut merupakan hasil dari transformasi dari sample data yang dimiliki.\n",
    "    \n",
    "    Jadi dapat disimpulkan bahwa MinMaxScaler digunakan untuk mengubah skala nilai terkecil dan nilai terbesar dari dataset\n",
    "    yang dimiliki menjadi skala tertentu."
   ]
  },
  {
   "cell_type": "markdown",
   "metadata": {},
   "source": [
    "    Jika dilihat, dapat disadari bahwa dalam proses fitting dan juga transformasi dikenakan pada data yang sama yaitu\n",
    "    sample_data. Pada sklearn proses ini dapat disederhanakan (disatukan) dengan menggunakan method .fit_transform.\n",
    "        \n",
    "    Cara penggunaaannya seperti:"
   ]
  },
  {
   "cell_type": "code",
   "execution_count": 9,
   "metadata": {},
   "outputs": [
    {
     "data": {
      "text/plain": [
       "array([[0.48648649, 0.58252427, 0.99122807],\n",
       "       [0.        , 1.        , 0.81578947],\n",
       "       [0.27027027, 0.        , 1.        ],\n",
       "       [1.        , 0.99029126, 0.        ]])"
      ]
     },
     "execution_count": 9,
     "metadata": {},
     "output_type": "execute_result"
    }
   ],
   "source": [
    "scaled_data = preprocessor.fit_transform(sample_data)\n",
    "scaled_data"
   ]
  },
  {
   "cell_type": "markdown",
   "metadata": {},
   "source": [
    "    Langkah untuk melakukan proses fit dan transform dengan digabungkan adalah:\n",
    "    Panggil preprocessor.fit_transform untuk melakukan proses fit dan transform, kemudian method tersebut diikuti dengan\n",
    "    1 buah parameter yaitu dataset yang inginkan (dalam contoh yang digunakan adalah sample_data).\n",
    "    Setelah itu hasilnya akan ditampung dalam variable scaled_data."
   ]
  },
  {
   "cell_type": "markdown",
   "metadata": {},
   "source": [
    "### Normalisation\n",
    "\n",
    "#### L1 Normalisation: Least Absolute Deviations"
   ]
  },
  {
   "cell_type": "markdown",
   "metadata": {},
   "source": [
    "       Tujuan utama = untuk melakukan normalisasi terhadap data numeric yang dimiliki.\n",
    "    \n",
    "    Pertama-tama akan dilakukan pemanggilan terhadap dataset yang telah dibentuk sebelumnya (sample_data) untuk menampilkan kembali data yang ada."
   ]
  },
  {
   "cell_type": "code",
   "execution_count": 11,
   "metadata": {},
   "outputs": [
    {
     "data": {
      "text/plain": [
       "array([[ 2.1, -1.9,  5.5],\n",
       "       [-1.5,  2.4,  3.5],\n",
       "       [ 0.5, -7.9,  5.6],\n",
       "       [ 5.9,  2.3, -5.8]])"
      ]
     },
     "execution_count": 11,
     "metadata": {},
     "output_type": "execute_result"
    }
   ],
   "source": [
    "sample_data"
   ]
  },
  {
   "cell_type": "markdown",
   "metadata": {},
   "source": [
    "    Pada Normalisation pertama akan diterapkan Least Absolute Deviations.\n",
    "\n",
    "    Referensi: https://en.wikipedia.org/wiki/Least_absolute_deviations\n",
    "    \n",
    "   **Cara menggunakannya :**\n",
    "   \n",
    "    Memanggil preprocessing.normalize, hal ini membutuhkan 2 parameter yaitu: \n",
    "    Parameter pertama = data / sample datanya\n",
    "    Parameter kedua = norm, pada kasus ini parameter normnya diberikan nilai String \"l1\". \n",
    "    Normalisasi l1 ini akan berasosiasi dengan normalisasi yang menerapkan Least Absolute Deviations.\n",
    "       \n",
    "    Pemanggilan fungsi preprocessing.normalize akan menghasilkan data yang tenormalisasi dan datanya akan ditampung dalam\n",
    "    variable l1_normalised_data."
   ]
  },
  {
   "cell_type": "code",
   "execution_count": 12,
   "metadata": {},
   "outputs": [
    {
     "data": {
      "text/plain": [
       "array([[ 0.22105263, -0.2       ,  0.57894737],\n",
       "       [-0.2027027 ,  0.32432432,  0.47297297],\n",
       "       [ 0.03571429, -0.56428571,  0.4       ],\n",
       "       [ 0.42142857,  0.16428571, -0.41428571]])"
      ]
     },
     "execution_count": 12,
     "metadata": {},
     "output_type": "execute_result"
    }
   ],
   "source": [
    "l1_normalised_data = preprocessing.normalize(sample_data, norm='l1')\n",
    "# untuk melakukan normalisasi, dengan menggunakan l1\n",
    "\n",
    "l1_normalised_data\n",
    "# untuk menampilkan hasilnya"
   ]
  },
  {
   "cell_type": "markdown",
   "metadata": {},
   "source": [
    "#### L2 Normalisation: Least Squares"
   ]
  },
  {
   "cell_type": "markdown",
   "metadata": {},
   "source": [
    "    Referensi: https://en.wikipedia.org/wiki/Least_squares\n",
    "    \n",
    "    Pertama-tama akan dilakukan pemanggilan terhadap dataset yang telah dibentuk sebelumnya (sample_data) untuk menampilkan kembali data yang ada."
   ]
  },
  {
   "cell_type": "code",
   "execution_count": 13,
   "metadata": {},
   "outputs": [
    {
     "data": {
      "text/plain": [
       "array([[ 2.1, -1.9,  5.5],\n",
       "       [-1.5,  2.4,  3.5],\n",
       "       [ 0.5, -7.9,  5.6],\n",
       "       [ 5.9,  2.3, -5.8]])"
      ]
     },
     "execution_count": 13,
     "metadata": {},
     "output_type": "execute_result"
    }
   ],
   "source": [
    "sample_data"
   ]
  },
  {
   "cell_type": "markdown",
   "metadata": {},
   "source": [
    "    Pada Normalisation kedua akan diterapkan Least Squares.\n",
    "    \n",
    "    Cara menggunakannya :\n",
    "\n",
    "    Memanggil preprocessing.normalize, hal ini membutuhkan 2 parameter yaitu: \n",
    "    Parameter pertama = data / sample datanya\n",
    "    Parameter kedua = norm, pada kasus ini parameter normnya diberikan nilai String \"l2\". \n",
    "    Normalisasi l2 ini akan berasosiasi dengan teknik Least Squares.\n",
    "\n",
    "    Pemanggilan fungsi preprocessing.normalize akan menghasilkan data yang tenormalisasi dan datanya akan ditampung dalam\n",
    "    variable l2_normalised_data."
   ]
  },
  {
   "cell_type": "code",
   "execution_count": 14,
   "metadata": {},
   "outputs": [
    {
     "data": {
      "text/plain": [
       "array([[ 0.33946114, -0.30713151,  0.88906489],\n",
       "       [-0.33325106,  0.53320169,  0.7775858 ],\n",
       "       [ 0.05156558, -0.81473612,  0.57753446],\n",
       "       [ 0.68706914,  0.26784051, -0.6754239 ]])"
      ]
     },
     "execution_count": 14,
     "metadata": {},
     "output_type": "execute_result"
    }
   ],
   "source": [
    "l2_normalised_data = preprocessing.normalize(sample_data, norm='l2')\n",
    "# untuk melakukan normalisasi, dengan menggunakan l2\n",
    "\n",
    "l2_normalised_data\n",
    "# untuk menampilkan hasilnya"
   ]
  },
  {
   "cell_type": "markdown",
   "metadata": {},
   "source": [
    "Proses L1 & L2 Normalisation merupakan proses normalisasi sederhana yang ada pada teknik normalisation pada data."
   ]
  }
 ],
 "metadata": {
  "kernelspec": {
   "display_name": "Python 3",
   "language": "python",
   "name": "python3"
  },
  "language_info": {
   "codemirror_mode": {
    "name": "ipython",
    "version": 3
   },
   "file_extension": ".py",
   "mimetype": "text/x-python",
   "name": "python",
   "nbconvert_exporter": "python",
   "pygments_lexer": "ipython3",
   "version": "3.8.5"
  }
 },
 "nbformat": 4,
 "nbformat_minor": 4
}
