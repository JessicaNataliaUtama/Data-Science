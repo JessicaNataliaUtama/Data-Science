{
 "cells": [
  {
   "cell_type": "markdown",
   "metadata": {},
   "source": [
    "# Boston Housing Price"
   ]
  },
  {
   "cell_type": "markdown",
   "metadata": {},
   "source": [
    "Pada pembelajaran ini akan dilakukan proses Regression yaitu untuk melakukan prediksi harga rumah menggunakan beberapa cara yaitu : \n",
    "1. Simple Linear Regression\n",
    "2. Multiple Linear Regression\n",
    "3. Polynomial Linear Regression\n",
    "4. KNN"
   ]
  },
  {
   "cell_type": "markdown",
   "metadata": {},
   "source": [
    "## Load Dataset"
   ]
  },
  {
   "cell_type": "markdown",
   "metadata": {},
   "source": [
    "Langkah pertama yang harus dilakukan adalah dengan melakukan load dataset. Cara untuk mengakses dataset: Kita dapat mengakses sebuah dataset dengan mengimport dataset terebut.\n",
    "\n",
    "Dataset yang akan digunakan kali ini adalah dataset Boston Housing Price. Berikut cara mengimport dataset dari sklearn:"
   ]
  },
  {
   "cell_type": "code",
   "execution_count": 3,
   "metadata": {},
   "outputs": [
    {
     "data": {
      "text/plain": [
       "{'data': array([[6.3200e-03, 1.8000e+01, 2.3100e+00, ..., 1.5300e+01, 3.9690e+02,\n",
       "         4.9800e+00],\n",
       "        [2.7310e-02, 0.0000e+00, 7.0700e+00, ..., 1.7800e+01, 3.9690e+02,\n",
       "         9.1400e+00],\n",
       "        [2.7290e-02, 0.0000e+00, 7.0700e+00, ..., 1.7800e+01, 3.9283e+02,\n",
       "         4.0300e+00],\n",
       "        ...,\n",
       "        [6.0760e-02, 0.0000e+00, 1.1930e+01, ..., 2.1000e+01, 3.9690e+02,\n",
       "         5.6400e+00],\n",
       "        [1.0959e-01, 0.0000e+00, 1.1930e+01, ..., 2.1000e+01, 3.9345e+02,\n",
       "         6.4800e+00],\n",
       "        [4.7410e-02, 0.0000e+00, 1.1930e+01, ..., 2.1000e+01, 3.9690e+02,\n",
       "         7.8800e+00]]),\n",
       " 'target': array([24. , 21.6, 34.7, 33.4, 36.2, 28.7, 22.9, 27.1, 16.5, 18.9, 15. ,\n",
       "        18.9, 21.7, 20.4, 18.2, 19.9, 23.1, 17.5, 20.2, 18.2, 13.6, 19.6,\n",
       "        15.2, 14.5, 15.6, 13.9, 16.6, 14.8, 18.4, 21. , 12.7, 14.5, 13.2,\n",
       "        13.1, 13.5, 18.9, 20. , 21. , 24.7, 30.8, 34.9, 26.6, 25.3, 24.7,\n",
       "        21.2, 19.3, 20. , 16.6, 14.4, 19.4, 19.7, 20.5, 25. , 23.4, 18.9,\n",
       "        35.4, 24.7, 31.6, 23.3, 19.6, 18.7, 16. , 22.2, 25. , 33. , 23.5,\n",
       "        19.4, 22. , 17.4, 20.9, 24.2, 21.7, 22.8, 23.4, 24.1, 21.4, 20. ,\n",
       "        20.8, 21.2, 20.3, 28. , 23.9, 24.8, 22.9, 23.9, 26.6, 22.5, 22.2,\n",
       "        23.6, 28.7, 22.6, 22. , 22.9, 25. , 20.6, 28.4, 21.4, 38.7, 43.8,\n",
       "        33.2, 27.5, 26.5, 18.6, 19.3, 20.1, 19.5, 19.5, 20.4, 19.8, 19.4,\n",
       "        21.7, 22.8, 18.8, 18.7, 18.5, 18.3, 21.2, 19.2, 20.4, 19.3, 22. ,\n",
       "        20.3, 20.5, 17.3, 18.8, 21.4, 15.7, 16.2, 18. , 14.3, 19.2, 19.6,\n",
       "        23. , 18.4, 15.6, 18.1, 17.4, 17.1, 13.3, 17.8, 14. , 14.4, 13.4,\n",
       "        15.6, 11.8, 13.8, 15.6, 14.6, 17.8, 15.4, 21.5, 19.6, 15.3, 19.4,\n",
       "        17. , 15.6, 13.1, 41.3, 24.3, 23.3, 27. , 50. , 50. , 50. , 22.7,\n",
       "        25. , 50. , 23.8, 23.8, 22.3, 17.4, 19.1, 23.1, 23.6, 22.6, 29.4,\n",
       "        23.2, 24.6, 29.9, 37.2, 39.8, 36.2, 37.9, 32.5, 26.4, 29.6, 50. ,\n",
       "        32. , 29.8, 34.9, 37. , 30.5, 36.4, 31.1, 29.1, 50. , 33.3, 30.3,\n",
       "        34.6, 34.9, 32.9, 24.1, 42.3, 48.5, 50. , 22.6, 24.4, 22.5, 24.4,\n",
       "        20. , 21.7, 19.3, 22.4, 28.1, 23.7, 25. , 23.3, 28.7, 21.5, 23. ,\n",
       "        26.7, 21.7, 27.5, 30.1, 44.8, 50. , 37.6, 31.6, 46.7, 31.5, 24.3,\n",
       "        31.7, 41.7, 48.3, 29. , 24. , 25.1, 31.5, 23.7, 23.3, 22. , 20.1,\n",
       "        22.2, 23.7, 17.6, 18.5, 24.3, 20.5, 24.5, 26.2, 24.4, 24.8, 29.6,\n",
       "        42.8, 21.9, 20.9, 44. , 50. , 36. , 30.1, 33.8, 43.1, 48.8, 31. ,\n",
       "        36.5, 22.8, 30.7, 50. , 43.5, 20.7, 21.1, 25.2, 24.4, 35.2, 32.4,\n",
       "        32. , 33.2, 33.1, 29.1, 35.1, 45.4, 35.4, 46. , 50. , 32.2, 22. ,\n",
       "        20.1, 23.2, 22.3, 24.8, 28.5, 37.3, 27.9, 23.9, 21.7, 28.6, 27.1,\n",
       "        20.3, 22.5, 29. , 24.8, 22. , 26.4, 33.1, 36.1, 28.4, 33.4, 28.2,\n",
       "        22.8, 20.3, 16.1, 22.1, 19.4, 21.6, 23.8, 16.2, 17.8, 19.8, 23.1,\n",
       "        21. , 23.8, 23.1, 20.4, 18.5, 25. , 24.6, 23. , 22.2, 19.3, 22.6,\n",
       "        19.8, 17.1, 19.4, 22.2, 20.7, 21.1, 19.5, 18.5, 20.6, 19. , 18.7,\n",
       "        32.7, 16.5, 23.9, 31.2, 17.5, 17.2, 23.1, 24.5, 26.6, 22.9, 24.1,\n",
       "        18.6, 30.1, 18.2, 20.6, 17.8, 21.7, 22.7, 22.6, 25. , 19.9, 20.8,\n",
       "        16.8, 21.9, 27.5, 21.9, 23.1, 50. , 50. , 50. , 50. , 50. , 13.8,\n",
       "        13.8, 15. , 13.9, 13.3, 13.1, 10.2, 10.4, 10.9, 11.3, 12.3,  8.8,\n",
       "         7.2, 10.5,  7.4, 10.2, 11.5, 15.1, 23.2,  9.7, 13.8, 12.7, 13.1,\n",
       "        12.5,  8.5,  5. ,  6.3,  5.6,  7.2, 12.1,  8.3,  8.5,  5. , 11.9,\n",
       "        27.9, 17.2, 27.5, 15. , 17.2, 17.9, 16.3,  7. ,  7.2,  7.5, 10.4,\n",
       "         8.8,  8.4, 16.7, 14.2, 20.8, 13.4, 11.7,  8.3, 10.2, 10.9, 11. ,\n",
       "         9.5, 14.5, 14.1, 16.1, 14.3, 11.7, 13.4,  9.6,  8.7,  8.4, 12.8,\n",
       "        10.5, 17.1, 18.4, 15.4, 10.8, 11.8, 14.9, 12.6, 14.1, 13. , 13.4,\n",
       "        15.2, 16.1, 17.8, 14.9, 14.1, 12.7, 13.5, 14.9, 20. , 16.4, 17.7,\n",
       "        19.5, 20.2, 21.4, 19.9, 19. , 19.1, 19.1, 20.1, 19.9, 19.6, 23.2,\n",
       "        29.8, 13.8, 13.3, 16.7, 12. , 14.6, 21.4, 23. , 23.7, 25. , 21.8,\n",
       "        20.6, 21.2, 19.1, 20.6, 15.2,  7. ,  8.1, 13.6, 20.1, 21.8, 24.5,\n",
       "        23.1, 19.7, 18.3, 21.2, 17.5, 16.8, 22.4, 20.6, 23.9, 22. , 11.9]),\n",
       " 'feature_names': array(['CRIM', 'ZN', 'INDUS', 'CHAS', 'NOX', 'RM', 'AGE', 'DIS', 'RAD',\n",
       "        'TAX', 'PTRATIO', 'B', 'LSTAT'], dtype='<U7'),\n",
       " 'DESCR': \".. _boston_dataset:\\n\\nBoston house prices dataset\\n---------------------------\\n\\n**Data Set Characteristics:**  \\n\\n    :Number of Instances: 506 \\n\\n    :Number of Attributes: 13 numeric/categorical predictive. Median Value (attribute 14) is usually the target.\\n\\n    :Attribute Information (in order):\\n        - CRIM     per capita crime rate by town\\n        - ZN       proportion of residential land zoned for lots over 25,000 sq.ft.\\n        - INDUS    proportion of non-retail business acres per town\\n        - CHAS     Charles River dummy variable (= 1 if tract bounds river; 0 otherwise)\\n        - NOX      nitric oxides concentration (parts per 10 million)\\n        - RM       average number of rooms per dwelling\\n        - AGE      proportion of owner-occupied units built prior to 1940\\n        - DIS      weighted distances to five Boston employment centres\\n        - RAD      index of accessibility to radial highways\\n        - TAX      full-value property-tax rate per $10,000\\n        - PTRATIO  pupil-teacher ratio by town\\n        - B        1000(Bk - 0.63)^2 where Bk is the proportion of blacks by town\\n        - LSTAT    % lower status of the population\\n        - MEDV     Median value of owner-occupied homes in $1000's\\n\\n    :Missing Attribute Values: None\\n\\n    :Creator: Harrison, D. and Rubinfeld, D.L.\\n\\nThis is a copy of UCI ML housing dataset.\\nhttps://archive.ics.uci.edu/ml/machine-learning-databases/housing/\\n\\n\\nThis dataset was taken from the StatLib library which is maintained at Carnegie Mellon University.\\n\\nThe Boston house-price data of Harrison, D. and Rubinfeld, D.L. 'Hedonic\\nprices and the demand for clean air', J. Environ. Economics & Management,\\nvol.5, 81-102, 1978.   Used in Belsley, Kuh & Welsch, 'Regression diagnostics\\n...', Wiley, 1980.   N.B. Various transformations are used in the table on\\npages 244-261 of the latter.\\n\\nThe Boston house-price data has been used in many machine learning papers that address regression\\nproblems.   \\n     \\n.. topic:: References\\n\\n   - Belsley, Kuh & Welsch, 'Regression diagnostics: Identifying Influential Data and Sources of Collinearity', Wiley, 1980. 244-261.\\n   - Quinlan,R. (1993). Combining Instance-Based and Model-Based Learning. In Proceedings on the Tenth International Conference of Machine Learning, 236-243, University of Massachusetts, Amherst. Morgan Kaufmann.\\n\",\n",
       " 'filename': 'C:\\\\Users\\\\Asus\\\\anaconda3\\\\lib\\\\site-packages\\\\sklearn\\\\datasets\\\\data\\\\boston_house_prices.csv'}"
      ]
     },
     "execution_count": 3,
     "metadata": {},
     "output_type": "execute_result"
    }
   ],
   "source": [
    "from sklearn.datasets import load_boston\n",
    "# melakukan load dataset \n",
    "\n",
    "boston = load_boston()\n",
    "boston"
   ]
  },
  {
   "cell_type": "markdown",
   "metadata": {},
   "source": [
    "Selanjutnya setelah mengimport dataset yang akan digunakan, akan dilihat keys apa saja yang terdapat pada dataset boston housing price. Berikut caranya:"
   ]
  },
  {
   "cell_type": "code",
   "execution_count": 4,
   "metadata": {},
   "outputs": [
    {
     "data": {
      "text/plain": [
       "dict_keys(['data', 'target', 'feature_names', 'DESCR', 'filename'])"
      ]
     },
     "execution_count": 4,
     "metadata": {},
     "output_type": "execute_result"
    }
   ],
   "source": [
    "boston.keys()\n",
    "#untuk mendata dictionary apa saja yang dimiliki oleh iris dataset"
   ]
  },
  {
   "cell_type": "markdown",
   "metadata": {},
   "source": [
    "Isi keys dictionary dari boston dataset adalah:\n",
    "\n",
    "data = akan berasosiasi dengan data-data features\n",
    "target = akan berasosiasi dengan data-data target\n",
    "features_name = akan berkorelasi dengan nama / label untuk setiap featuresnya\n",
    "DESCR = merupakan kependekan dari description, untuk mengakses deskripsi dari datasetnya.\n",
    "filename = akan berasosiasi dengan lokasi dari file dataset yang di load\n",
    "\n",
    "Setelah melihat dictionary apa saja yang terdapat pada dataset boston, kemudian akan dilihat deskripsi dari dataset boston, dengan menggunakan:"
   ]
  },
  {
   "cell_type": "code",
   "execution_count": 5,
   "metadata": {},
   "outputs": [
    {
     "name": "stdout",
     "output_type": "stream",
     "text": [
      ".. _boston_dataset:\n",
      "\n",
      "Boston house prices dataset\n",
      "---------------------------\n",
      "\n",
      "**Data Set Characteristics:**  \n",
      "\n",
      "    :Number of Instances: 506 \n",
      "\n",
      "    :Number of Attributes: 13 numeric/categorical predictive. Median Value (attribute 14) is usually the target.\n",
      "\n",
      "    :Attribute Information (in order):\n",
      "        - CRIM     per capita crime rate by town\n",
      "        - ZN       proportion of residential land zoned for lots over 25,000 sq.ft.\n",
      "        - INDUS    proportion of non-retail business acres per town\n",
      "        - CHAS     Charles River dummy variable (= 1 if tract bounds river; 0 otherwise)\n",
      "        - NOX      nitric oxides concentration (parts per 10 million)\n",
      "        - RM       average number of rooms per dwelling\n",
      "        - AGE      proportion of owner-occupied units built prior to 1940\n",
      "        - DIS      weighted distances to five Boston employment centres\n",
      "        - RAD      index of accessibility to radial highways\n",
      "        - TAX      full-value property-tax rate per $10,000\n",
      "        - PTRATIO  pupil-teacher ratio by town\n",
      "        - B        1000(Bk - 0.63)^2 where Bk is the proportion of blacks by town\n",
      "        - LSTAT    % lower status of the population\n",
      "        - MEDV     Median value of owner-occupied homes in $1000's\n",
      "\n",
      "    :Missing Attribute Values: None\n",
      "\n",
      "    :Creator: Harrison, D. and Rubinfeld, D.L.\n",
      "\n",
      "This is a copy of UCI ML housing dataset.\n",
      "https://archive.ics.uci.edu/ml/machine-learning-databases/housing/\n",
      "\n",
      "\n",
      "This dataset was taken from the StatLib library which is maintained at Carnegie Mellon University.\n",
      "\n",
      "The Boston house-price data of Harrison, D. and Rubinfeld, D.L. 'Hedonic\n",
      "prices and the demand for clean air', J. Environ. Economics & Management,\n",
      "vol.5, 81-102, 1978.   Used in Belsley, Kuh & Welsch, 'Regression diagnostics\n",
      "...', Wiley, 1980.   N.B. Various transformations are used in the table on\n",
      "pages 244-261 of the latter.\n",
      "\n",
      "The Boston house-price data has been used in many machine learning papers that address regression\n",
      "problems.   \n",
      "     \n",
      ".. topic:: References\n",
      "\n",
      "   - Belsley, Kuh & Welsch, 'Regression diagnostics: Identifying Influential Data and Sources of Collinearity', Wiley, 1980. 244-261.\n",
      "   - Quinlan,R. (1993). Combining Instance-Based and Model-Based Learning. In Proceedings on the Tenth International Conference of Machine Learning, 236-243, University of Massachusetts, Amherst. Morgan Kaufmann.\n",
      "\n"
     ]
    }
   ],
   "source": [
    "print(boston.DESCR)"
   ]
  },
  {
   "cell_type": "markdown",
   "metadata": {},
   "source": [
    "Dari hasil deskripsi diatas dapat diketahui bahwa artibute akan menjadi features.\n",
    "\n",
    "Dan untuk mempermudah mengetahui features yang ada maka akan ditampilkan features name dari dataset boston, dengan cara:"
   ]
  },
  {
   "cell_type": "code",
   "execution_count": 6,
   "metadata": {},
   "outputs": [
    {
     "data": {
      "text/plain": [
       "array(['CRIM', 'ZN', 'INDUS', 'CHAS', 'NOX', 'RM', 'AGE', 'DIS', 'RAD',\n",
       "       'TAX', 'PTRATIO', 'B', 'LSTAT'], dtype='<U7')"
      ]
     },
     "execution_count": 6,
     "metadata": {},
     "output_type": "execute_result"
    }
   ],
   "source": [
    "feature_names = boston.feature_names\n",
    "feature_names"
   ]
  },
  {
   "cell_type": "markdown",
   "metadata": {},
   "source": [
    "Menampilkan Boston Dataset sebagai pandas Dataframe"
   ]
  },
  {
   "cell_type": "code",
   "execution_count": 8,
   "metadata": {},
   "outputs": [
    {
     "data": {
      "text/html": [
       "<div>\n",
       "<style scoped>\n",
       "    .dataframe tbody tr th:only-of-type {\n",
       "        vertical-align: middle;\n",
       "    }\n",
       "\n",
       "    .dataframe tbody tr th {\n",
       "        vertical-align: top;\n",
       "    }\n",
       "\n",
       "    .dataframe thead th {\n",
       "        text-align: right;\n",
       "    }\n",
       "</style>\n",
       "<table border=\"1\" class=\"dataframe\">\n",
       "  <thead>\n",
       "    <tr style=\"text-align: right;\">\n",
       "      <th></th>\n",
       "      <th>CRIM</th>\n",
       "      <th>ZN</th>\n",
       "      <th>INDUS</th>\n",
       "      <th>CHAS</th>\n",
       "      <th>NOX</th>\n",
       "      <th>RM</th>\n",
       "      <th>AGE</th>\n",
       "      <th>DIS</th>\n",
       "      <th>RAD</th>\n",
       "      <th>TAX</th>\n",
       "      <th>PTRATIO</th>\n",
       "      <th>B</th>\n",
       "      <th>LSTAT</th>\n",
       "      <th>target</th>\n",
       "    </tr>\n",
       "  </thead>\n",
       "  <tbody>\n",
       "    <tr>\n",
       "      <th>0</th>\n",
       "      <td>0.00632</td>\n",
       "      <td>18.0</td>\n",
       "      <td>2.31</td>\n",
       "      <td>0.0</td>\n",
       "      <td>0.538</td>\n",
       "      <td>6.575</td>\n",
       "      <td>65.2</td>\n",
       "      <td>4.0900</td>\n",
       "      <td>1.0</td>\n",
       "      <td>296.0</td>\n",
       "      <td>15.3</td>\n",
       "      <td>396.90</td>\n",
       "      <td>4.98</td>\n",
       "      <td>24.0</td>\n",
       "    </tr>\n",
       "    <tr>\n",
       "      <th>1</th>\n",
       "      <td>0.02731</td>\n",
       "      <td>0.0</td>\n",
       "      <td>7.07</td>\n",
       "      <td>0.0</td>\n",
       "      <td>0.469</td>\n",
       "      <td>6.421</td>\n",
       "      <td>78.9</td>\n",
       "      <td>4.9671</td>\n",
       "      <td>2.0</td>\n",
       "      <td>242.0</td>\n",
       "      <td>17.8</td>\n",
       "      <td>396.90</td>\n",
       "      <td>9.14</td>\n",
       "      <td>21.6</td>\n",
       "    </tr>\n",
       "    <tr>\n",
       "      <th>2</th>\n",
       "      <td>0.02729</td>\n",
       "      <td>0.0</td>\n",
       "      <td>7.07</td>\n",
       "      <td>0.0</td>\n",
       "      <td>0.469</td>\n",
       "      <td>7.185</td>\n",
       "      <td>61.1</td>\n",
       "      <td>4.9671</td>\n",
       "      <td>2.0</td>\n",
       "      <td>242.0</td>\n",
       "      <td>17.8</td>\n",
       "      <td>392.83</td>\n",
       "      <td>4.03</td>\n",
       "      <td>34.7</td>\n",
       "    </tr>\n",
       "    <tr>\n",
       "      <th>3</th>\n",
       "      <td>0.03237</td>\n",
       "      <td>0.0</td>\n",
       "      <td>2.18</td>\n",
       "      <td>0.0</td>\n",
       "      <td>0.458</td>\n",
       "      <td>6.998</td>\n",
       "      <td>45.8</td>\n",
       "      <td>6.0622</td>\n",
       "      <td>3.0</td>\n",
       "      <td>222.0</td>\n",
       "      <td>18.7</td>\n",
       "      <td>394.63</td>\n",
       "      <td>2.94</td>\n",
       "      <td>33.4</td>\n",
       "    </tr>\n",
       "    <tr>\n",
       "      <th>4</th>\n",
       "      <td>0.06905</td>\n",
       "      <td>0.0</td>\n",
       "      <td>2.18</td>\n",
       "      <td>0.0</td>\n",
       "      <td>0.458</td>\n",
       "      <td>7.147</td>\n",
       "      <td>54.2</td>\n",
       "      <td>6.0622</td>\n",
       "      <td>3.0</td>\n",
       "      <td>222.0</td>\n",
       "      <td>18.7</td>\n",
       "      <td>396.90</td>\n",
       "      <td>5.33</td>\n",
       "      <td>36.2</td>\n",
       "    </tr>\n",
       "  </tbody>\n",
       "</table>\n",
       "</div>"
      ],
      "text/plain": [
       "      CRIM    ZN  INDUS  CHAS    NOX     RM   AGE     DIS  RAD    TAX  \\\n",
       "0  0.00632  18.0   2.31   0.0  0.538  6.575  65.2  4.0900  1.0  296.0   \n",
       "1  0.02731   0.0   7.07   0.0  0.469  6.421  78.9  4.9671  2.0  242.0   \n",
       "2  0.02729   0.0   7.07   0.0  0.469  7.185  61.1  4.9671  2.0  242.0   \n",
       "3  0.03237   0.0   2.18   0.0  0.458  6.998  45.8  6.0622  3.0  222.0   \n",
       "4  0.06905   0.0   2.18   0.0  0.458  7.147  54.2  6.0622  3.0  222.0   \n",
       "\n",
       "   PTRATIO       B  LSTAT  target  \n",
       "0     15.3  396.90   4.98    24.0  \n",
       "1     17.8  396.90   9.14    21.6  \n",
       "2     17.8  392.83   4.03    34.7  \n",
       "3     18.7  394.63   2.94    33.4  \n",
       "4     18.7  396.90   5.33    36.2  "
      ]
     },
     "execution_count": 8,
     "metadata": {},
     "output_type": "execute_result"
    }
   ],
   "source": [
    "from sklearn import datasets\n",
    "import pandas as pd\n",
    "\n",
    "boston_data = datasets.load_boston()\n",
    "df_boston = pd.DataFrame(boston_data.data,columns=boston_data.feature_names)\n",
    "df_boston['target'] = pd.Series(boston_data.target)\n",
    "df_boston.head()"
   ]
  },
  {
   "cell_type": "markdown",
   "metadata": {},
   "source": [
    "Setelah mengetahui features apa saja yang ada pada Boston dataset kemudian akan dilakukan persiapan terhadap dataset yang dimiliki.\n",
    "Persiapan dilakukan dengan membagi dataset menjadi Training Set dan Testing Set."
   ]
  },
  {
   "cell_type": "code",
   "execution_count": 7,
   "metadata": {},
   "outputs": [],
   "source": [
    "X = boston.data\n",
    "y = boston.target\n",
    "\n",
    "from sklearn.model_selection import train_test_split\n",
    "\n",
    "X_train, X_test, y_train, y_test = train_test_split(X, y, test_size=0.4, random_state=1)"
   ]
  },
  {
   "cell_type": "markdown",
   "metadata": {},
   "source": [
    "## Simple Linear Regression"
   ]
  },
  {
   "cell_type": "markdown",
   "metadata": {},
   "source": [
    "Simple Linear Regression merupakan model machine learning paling sedernaha dan paling pertama diajarkan pada kelas machine learning.\n",
    "\n",
    "Simple Linear Regression memodelkan hubungan antara sebuah response variable dengan sebuah explanatory variable sebagai suatu garis lurus (linear). Simple Linear Regression ini juga masih digunakan untuk memprediksi suatu nilai.\n",
    "\n",
    "Referensi: https://en.wikipedia.org/wiki/Simple_linear_regression"
   ]
  },
  {
   "cell_type": "markdown",
   "metadata": {},
   "source": [
    "### Mempersiapkan Dataset"
   ]
  },
  {
   "cell_type": "markdown",
   "metadata": {},
   "source": [
    "Langkah pertama yang dilakukan adalah menyiapkan dataset yang akan digunakan. Dari dataset yang digunakan terdapat berbagai macam features yang dapat digunakan, dan yang saya gunakan kali ini adalah DIS (weighted distances to five Boston employment centres)."
   ]
  },
  {
   "cell_type": "code",
   "execution_count": 14,
   "metadata": {},
   "outputs": [
    {
     "data": {
      "text/html": [
       "<div>\n",
       "<style scoped>\n",
       "    .dataframe tbody tr th:only-of-type {\n",
       "        vertical-align: middle;\n",
       "    }\n",
       "\n",
       "    .dataframe tbody tr th {\n",
       "        vertical-align: top;\n",
       "    }\n",
       "\n",
       "    .dataframe thead th {\n",
       "        text-align: right;\n",
       "    }\n",
       "</style>\n",
       "<table border=\"1\" class=\"dataframe\">\n",
       "  <thead>\n",
       "    <tr style=\"text-align: right;\">\n",
       "      <th></th>\n",
       "      <th>dis</th>\n",
       "      <th>harga</th>\n",
       "    </tr>\n",
       "  </thead>\n",
       "  <tbody>\n",
       "    <tr>\n",
       "      <th>0</th>\n",
       "      <td>4.0900</td>\n",
       "      <td>24.0</td>\n",
       "    </tr>\n",
       "    <tr>\n",
       "      <th>1</th>\n",
       "      <td>4.9671</td>\n",
       "      <td>21.6</td>\n",
       "    </tr>\n",
       "    <tr>\n",
       "      <th>2</th>\n",
       "      <td>4.9671</td>\n",
       "      <td>34.7</td>\n",
       "    </tr>\n",
       "    <tr>\n",
       "      <th>3</th>\n",
       "      <td>6.0622</td>\n",
       "      <td>33.4</td>\n",
       "    </tr>\n",
       "    <tr>\n",
       "      <th>4</th>\n",
       "      <td>6.0622</td>\n",
       "      <td>36.2</td>\n",
       "    </tr>\n",
       "  </tbody>\n",
       "</table>\n",
       "</div>"
      ],
      "text/plain": [
       "      dis  harga\n",
       "0  4.0900   24.0\n",
       "1  4.9671   21.6\n",
       "2  4.9671   34.7\n",
       "3  6.0622   33.4\n",
       "4  6.0622   36.2"
      ]
     },
     "execution_count": 14,
     "metadata": {},
     "output_type": "execute_result"
    }
   ],
   "source": [
    "import pandas as pd\n",
    "\n",
    "rumah = {'dis': [4.0900, 4.9671, 4.9671, 6.0622, 6.0622], \n",
    "         'harga': [24.0, 21.6, 34.7, 33.4, 36.2]}\n",
    "\n",
    "rumah_df = pd.DataFrame(rumah)\n",
    "\n",
    "rumah_df"
   ]
  },
  {
   "cell_type": "markdown",
   "metadata": {},
   "source": [
    "Dapat dilihat bahwa dataset yang dimiliki, terdiri 2 buah kolom yaitu kolom dis dan kolom harga.\n",
    "\n",
    "Dalam pembelajaran ini, akan dibuat sebuah model machine learning sederhana yang dapat digunakan untuk memprediksi harga rumah bila diketahui disnya. Dapat diambil kesimpulan bahwa nilai dis akan berperan sebagai features, dan nilai harga akan berperan sebagai target."
   ]
  },
  {
   "cell_type": "markdown",
   "metadata": {},
   "source": [
    "Selanjutnya akan dilakukan visualisasi data terhadap data rumah yang dimiliki."
   ]
  },
  {
   "cell_type": "code",
   "execution_count": 19,
   "metadata": {},
   "outputs": [
    {
     "data": {
      "image/png": "[encoded data removed]",
      "text/plain": [
       "<Figure size 432x288 with 1 Axes>"
      ]
     },
     "metadata": {
      "needs_background": "light"
     },
     "output_type": "display_data"
    }
   ],
   "source": [
    "import matplotlib.pyplot as plt\n",
    "# mengimport matplotlib sebagai plt\n",
    "\n",
    "rumah_df.plot(kind='scatter', x='dis', y='harga')\n",
    "# untuk membuat scatter plot\n",
    "\n",
    "plt.title('Perbandingan DIS dan Harga Rumah')\n",
    "# untuk memberikan title pada plot\n",
    "\n",
    "plt.xlabel('DIS')\n",
    "# untuk memberikan label pada sumbu x\n",
    "\n",
    "plt.ylabel('Harga (dollar)')\n",
    "# untuk memberikan label pada sumbu y\n",
    "\n",
    "plt.xlim(0, 25)\n",
    "# untuk mengatur jangkauan sumbu x\n",
    "\n",
    "plt.ylim(0, 25)\n",
    "# untuk mengatur jangkauan sumbu y\n",
    "\n",
    "plt.grid(True)\n",
    "# untuk menampilkan gridnya\n",
    "\n",
    "plt.show()\n",
    "# untuk menampilkan shownya"
   ]
  },
  {
   "cell_type": "markdown",
   "metadata": {},
   "source": [
    "### Simple Linear Regression Model"
   ]
  },
  {
   "cell_type": "markdown",
   "metadata": {},
   "source": [
    "#### Penyesuaian Dataset"
   ]
  },
  {
   "cell_type": "markdown",
   "metadata": {},
   "source": [
    "Sebelumnya dilakukan terlebih dahulu penyesuaian terhadap dataset yang dimiliki, penyesuaian yang dilakukan adalah : Mengelompokkan features dan target kedalam 2 variable terpisah, dan juga dilakukan koncersi struktur data dari pandas dataframe menjadi numpy array.\n",
    "\n",
    "**Caranya:**\n",
    "\n",
    "1. import numpy as np, untuk mengimport numpy\n",
    "2. Menyeleksi dis (features) kemudian dikonversikan menjadi suatu numpy array, yang ditampung dalam sebuah variable x. \n",
    "3. Variable x ini nanti akan dikenal / diketahui sebagai variable features.\n",
    "4. Mengkonversi nilai harga kemudian ditampung dalam variable y. Variable y ini akan dikenal / diketahui sebagai variable target."
   ]
  },
  {
   "cell_type": "code",
   "execution_count": 20,
   "metadata": {},
   "outputs": [
    {
     "name": "stdout",
     "output_type": "stream",
     "text": [
      "X: [4.09   4.9671 4.9671 6.0622 6.0622]\n",
      "y: [24.  21.6 34.7 33.4 36.2]\n"
     ]
    }
   ],
   "source": [
    "import numpy as np\n",
    "# untuk mengimport numpy\n",
    "\n",
    "X = np.array(rumah_df['dis'])\n",
    "# mengkonversi nilai diameter menjadi numpy array, kemudian ditampung dalam variable x\n",
    "\n",
    "y = np.array(rumah_df['harga'])\n",
    "# mengkonversi nilai harga menjadi numpy array, kemudian ditampung dalam variable y\n",
    "\n",
    "print(f'X: {X}')\n",
    "# print variable x\n",
    "\n",
    "print(f'y: {y}')\n",
    "# print variable y"
   ]
  },
  {
   "cell_type": "markdown",
   "metadata": {},
   "source": [
    "x berisikan kumpulan nilai features, dan y berisikan kumpulan nilai target.\n",
    "\n",
    "Jika diperhatikan hasil yang ditampilkan variable x yang digunakan untuk menampung nilai features hanya terdiri dari 1 dimensi saja, sedangkan dalam pembelajaran sebelumnya model machine learning pada sklearn membutuhkan sekumpulan nilai features yang ditampung dalam suatu array 2 dimensi.\n",
    "\n",
    "Oleh karena itu perlu dilakukan proses reshaping terhadap array yang digunakan untuk menampung nilai features (x).\n",
    "\n",
    "**Cara Melakukan Reshaping Array (yang menampung nilai features):**\n",
    "1. Memanggil x.reshape yang berisikan 2 buah parameter yaitu -1 dan 1.\n",
    "2. Kemudian ditampilkan hasil dari proses reshaping nya."
   ]
  },
  {
   "cell_type": "code",
   "execution_count": 21,
   "metadata": {},
   "outputs": [
    {
     "data": {
      "text/plain": [
       "(5, 1)"
      ]
     },
     "execution_count": 21,
     "metadata": {},
     "output_type": "execute_result"
    }
   ],
   "source": [
    "X = X.reshape(-1, 1)\n",
    "# untuk melalukan reshaping\n",
    "\n",
    "X.shape\n",
    "# untuk memanggil dimensi hasil dari reshaping"
   ]
  },
  {
   "cell_type": "code",
   "execution_count": 22,
   "metadata": {},
   "outputs": [
    {
     "data": {
      "text/plain": [
       "array([[4.09  ],\n",
       "       [4.9671],\n",
       "       [4.9671],\n",
       "       [6.0622],\n",
       "       [6.0622]])"
      ]
     },
     "execution_count": 22,
     "metadata": {},
     "output_type": "execute_result"
    }
   ],
   "source": [
    "X\n",
    "# untuk menampilkan arraynya (isi arraynya)"
   ]
  },
  {
   "cell_type": "markdown",
   "metadata": {},
   "source": [
    "**Penjelasan hasil :**\n",
    "\n",
    "Hasil setelah di reshaping menjadi (5, 1) yang artinya terdiri dari 5 baris dan 1 kolom\n",
    "Jika dipanggil nilai X nya maka akan terlihat dengan jelas dalam array 2 dimensi tersebut terdapat 5 baris dan 1 kolom\n",
    "Training Simple Linear Regression Model\n",
    "Setelah dilakukan reshaping, maka sekarang akan dilakukan training model machine learning dimana model yang dipilih adalah Linear Regression.\n",
    "\n",
    "**Cara Melakukannya:**\n",
    "\n",
    "1. Mengimport estimator class nya, dan yang kali ini digunakan adalah Linear Regression. Caranya dengan memanggil from sklearn.linear_model import LinearRegression\n",
    "2. Membuat objek model dari estimator class dengan memanggil LinnearRegression(). Objek yang terbentuk akan ditampung dalam variable model.\n",
    "3. Selanjutnya objek model yang sudah terbentuk akan di training dengan memanggil method .fit method .fit ini membutuhkan 2 parameter yaitu sekumpulan nilai features dan sekumpulan nilai target, dan kedua nilai ini telah ditampung ke dalam variable x dan y sebelumnya."
   ]
  },
  {
   "cell_type": "code",
   "execution_count": 23,
   "metadata": {},
   "outputs": [
    {
     "data": {
      "text/plain": [
       "LinearRegression()"
      ]
     },
     "execution_count": 23,
     "metadata": {},
     "output_type": "execute_result"
    }
   ],
   "source": [
    "from sklearn.linear_model import LinearRegression\n",
    "# mengimport class estimatornya yaitu Linear Regression\n",
    "\n",
    "model = LinearRegression()\n",
    "# untuk membuat model objeknya\n",
    "\n",
    "model.fit(X, y)\n",
    "# untuk mentraining objek model yang sudah dibuat"
   ]
  },
  {
   "cell_type": "markdown",
   "metadata": {},
   "source": [
    "#### Visualisasi Simple Linear Regression Model"
   ]
  },
  {
   "cell_type": "markdown",
   "metadata": {},
   "source": [
    "Karena model machine learning yang digunakan adalah Linear Model yang dapat dibilang masih sangat sederhana, maka model ini juga dapat divisualisasikan. Karena pada dasarnya linear model yang dihasilkan akan berupa garis lurus."
   ]
  },
  {
   "cell_type": "code",
   "execution_count": 24,
   "metadata": {},
   "outputs": [],
   "source": [
    "X_vis = np.array([0, 25]).reshape(-1, 1)\n",
    "y_vis = model.predict(X_vis)"
   ]
  },
  {
   "cell_type": "markdown",
   "metadata": {},
   "source": [
    "Setelah mendapatkan nilai x dan y, maka sekarang data yang dimiliki dapat divisulasisasikan."
   ]
  },
  {
   "cell_type": "code",
   "execution_count": 25,
   "metadata": {},
   "outputs": [
    {
     "data": {
      "image/png": "[encoded data removed]",
      "text/plain": [
       "<Figure size 432x288 with 1 Axes>"
      ]
     },
     "metadata": {
      "needs_background": "light"
     },
     "output_type": "display_data"
    }
   ],
   "source": [
    "plt.scatter(X, y)\n",
    "# untuk membuat titik biru pada plot\n",
    "\n",
    "plt.plot(X_vis, y_vis, '-r')\n",
    "# untuk membuat garis linear\n",
    "\n",
    "plt.title('Perbandingan Diameter dan Harga Pizza')\n",
    "# untuk memberikan judul pada plot\n",
    "\n",
    "plt.xlabel('DIS')\n",
    "# untuk memberikan label pada sumbu x\n",
    "\n",
    "plt.ylabel('Harga (dollar)')\n",
    "# untuk memberikan label pada sumbu y\n",
    "\n",
    "plt.xlim(0, 25)\n",
    "# untuk mengatur jangkauan sumbu x\n",
    "\n",
    "plt.ylim(0, 25)\n",
    "# untuk mengatur jangkauan sumbu y\n",
    "\n",
    "plt.grid(True)\n",
    "# untuk menampilkan gridnya\n",
    "\n",
    "plt.show()\n",
    "# untuk menampilkan plotnya"
   ]
  },
  {
   "cell_type": "markdown",
   "metadata": {},
   "source": [
    "Garis lurus yang terbentuk pada plot akan memiliki persamaan yang mengacu pada Formula Linear Regression."
   ]
  },
  {
   "cell_type": "markdown",
   "metadata": {},
   "source": [
    "**Formula Linear Regression:  𝑦=𝛼+𝛽𝑥**\n",
    "\n",
    "𝑦 : response variable\n",
    "𝑥 : explanatory variable\n",
    "𝛼 : intercept\n",
    "𝛽 : slope\n",
    "\n",
    "Dalam Simple Linear Regression terdapat 2 buah parameter yang HARUS dipahami yaitu  𝛼  dan  𝛽 .\n",
    "\n",
    "𝛼  (Intercept) => Merupakan titik pada sumbu y dimana garis linear yang terbentuk menabrak. Dapat dilihat bahwa pada plot garis linear menabrak suatu titik pada sumbu y, titik itulah yang dinamakan intercept. Atau dapat diartikan juga Intercept adalah nilai pada sumbu y ketika x nya bernilai 0.\n",
    "\n",
    "𝛽  (Slope) => Nilai slope akan berpengaruh pada tingkat kemiringan dari garis linear yang terbentuk, dimana nilai slope 0 akan menghasilkan garis Horizontal.\n",
    "\n",
    "Pada SkLearn bisa didapatkan nilai Intercept dan Slope dari model Linear Regression yang sudah ditraining sebelumnya.\n",
    "\n",
    "**Cara Mendapatkan Nilai Intercept & Slope pada SkLearn:**\n",
    "1. Menampilkan nilai Intercept dengan memanggil objek model yang dimilki menggunakan model.intercept_\n",
    "2. Menampilkan nilai slope dengan memanggil objek model yang dimiliki menggunakan model.coef_"
   ]
  },
  {
   "cell_type": "code",
   "execution_count": 26,
   "metadata": {},
   "outputs": [
    {
     "name": "stdout",
     "output_type": "stream",
     "text": [
      "intercept: 0.7059361715593866\n",
      "slope: [5.59763502]\n"
     ]
    }
   ],
   "source": [
    "print(f'intercept: {model.intercept_}')\n",
    "# untuk menampilkan nilai intercept\n",
    "\n",
    "print(f'slope: {model.coef_}')\n",
    "# untuk menampilkan nilai slope"
   ]
  },
  {
   "cell_type": "markdown",
   "metadata": {},
   "source": [
    "Nilai Intercept dan nilai Slope yang diperoleh dari code diatas dilakuakan dengan mengambil parameter yang ada, bukan menghitung secara manual."
   ]
  },
  {
   "cell_type": "markdown",
   "metadata": {},
   "source": [
    "#### Perhitungan Nilai Slope dan Nilai Intercept Secara Manual"
   ]
  },
  {
   "cell_type": "markdown",
   "metadata": {},
   "source": [
    "##### Mencari nilai slope"
   ]
  },
  {
   "cell_type": "markdown",
   "metadata": {},
   "source": [
    "Nilai slope pada Linear Regression bisa diperoleh dengan memanfaatkan formula berikut:\n",
    "\n",
    "$\\beta = \\frac{cov(x, y)}{var(x)}$\n",
    "\n",
    "Jadi nilai Slope bisa didapatkan dengan melakukan proses pembagian antara nilai covariance dari x dan y, dibagi dengan nilai variance dari x. Dimana x merepresentasikan sekumpulan nilai features sedangkan y merepresentasikan sekumpulan nilai target.\n",
    "\n",
    "Untuk melakukan proses kalkulasi variance dan covariance lebih baik dilakukan flatten terlebih dahulu (dikembalikan ke bentuk asalnya), karena lebih baik berbentuk 1 dimensi. Untuk melakukan flatten dapat menggunakan method .flatten yang diawali dengan nilai yang ingin kita lakukan flatten."
   ]
  },
  {
   "cell_type": "code",
   "execution_count": 27,
   "metadata": {},
   "outputs": [
    {
     "name": "stdout",
     "output_type": "stream",
     "text": [
      "X:\n",
      "[[4.09  ]\n",
      " [4.9671]\n",
      " [4.9671]\n",
      " [6.0622]\n",
      " [6.0622]]\n",
      "\n",
      "X flatten: [4.09   4.9671 4.9671 6.0622 6.0622]\n",
      "\n",
      "y: [24.  21.6 34.7 33.4 36.2]\n"
     ]
    }
   ],
   "source": [
    "print(f'X:\\n{X}\\n')\n",
    "# untuk melihat nilai x\n",
    "\n",
    "print(f'X flatten: {X.flatten()}\\n')\n",
    "# melakukan flatten pada nilai x\n",
    "\n",
    "print(f'y: {y}')\n",
    "# untuk melihat nilai y"
   ]
  },
  {
   "cell_type": "markdown",
   "metadata": {},
   "source": [
    "**Berikut adalah tahapan - tahapan untuk mencari nilai Slope:**\n",
    "\n"
   ]
  },
  {
   "cell_type": "markdown",
   "metadata": {},
   "source": [
    "##### Variance"
   ]
  },
  {
   "cell_type": "markdown",
   "metadata": {},
   "source": [
    "Untuk mencari nilai slope perlu untuk menghitung nilai variance nya terlebih dahulu.\n",
    "\n",
    "**Cara Menghitung Nilai Variance:**\n",
    "1. Memanggil np.var yang diikuti 2 buah parameter yaitu:\n",
    "2. Parameter 1 = nilai x yang sudah di flatten kan\n",
    "3. Parameter 2 = ddof (Dynamic Degrees of Freedom) Hasil perhitungan variance nya akan ditampung pada variable variance_x\n",
    "4. Kemudian diprint hasilnya untuk ditampilkan"
   ]
  },
  {
   "cell_type": "code",
   "execution_count": 28,
   "metadata": {},
   "outputs": [
    {
     "name": "stdout",
     "output_type": "stream",
     "text": [
      "variance: 0.7057365269999998\n"
     ]
    }
   ],
   "source": [
    "variance_x = np.var(X.flatten(), ddof=1)\n",
    "# untuk menghitung nilai variance\n",
    "\n",
    "print(f'variance: {variance_x}')\n",
    "# menampilkan hasil nilai variance"
   ]
  },
  {
   "cell_type": "markdown",
   "metadata": {},
   "source": [
    "##### Covariance\n"
   ]
  },
  {
   "cell_type": "markdown",
   "metadata": {},
   "source": [
    "Setelah menghitung nilai variance, maka perlu juga dilakukan perhitungan terhadap nilai covariance sebelum mencari nilai slope.\n",
    "\n",
    "**Penjelasan Code:**\n",
    "1. Memanggil np.cov yang diikuti 2 buah parameter yaitu:\n",
    "   * Parameter 1 = nilai x yang sudah di flatten kan\n",
    "   * Parameter 2 = nilai y\n",
    "2. Jika sudah dijalankan maka akan menghasilkan covariance matrix"
   ]
  },
  {
   "cell_type": "code",
   "execution_count": 32,
   "metadata": {},
   "outputs": [
    {
     "name": "stdout",
     "output_type": "stream",
     "text": [
      "covariance: 3.9504554999999995\n"
     ]
    }
   ],
   "source": [
    "covariance_xy = np.cov(X.flatten(), y)[0][1]\n",
    "# untuk mengambil nilai covariance\n",
    "\n",
    "print(f'covariance: {covariance_xy}')\n",
    "# untuk menampilkan hasil"
   ]
  },
  {
   "cell_type": "markdown",
   "metadata": {},
   "source": [
    "**Penjelasan Hasil :** Jika dilihat dari hasil diatas terlihat bahwa matrixnya terdiri dari 2 kolom dan 2 baris, namun nilai covariance yang akan digunakan adalah nilai yang terdapat pada diagonal (diagonal kiri bawah ke kanan atas). Jika diperhatikan nilai yang akan diambil adalah nilai yang sama persis.\n",
    "\n",
    "**Cara Mengambil Nilai Covariance:**\n",
    "1. Memanggil np.cov yang diikuti 2 buah parameter yaitu nilai x yang sudah di flatten kan dan nilai y, kemudian mengambil nilai index 0 dan 1.\n",
    "2. Hasil dari perhitungan ini akan ditampung kedalam variable covariance_xy yang kemudiang akan ditampilkan."
   ]
  },
  {
   "cell_type": "code",
   "execution_count": 29,
   "metadata": {},
   "outputs": [
    {
     "data": {
      "text/plain": [
       "array([[ 0.70573653,  3.9504555 ],\n",
       "       [ 3.9504555 , 44.662     ]])"
      ]
     },
     "execution_count": 29,
     "metadata": {},
     "output_type": "execute_result"
    }
   ],
   "source": [
    "np.cov(X.flatten(), y)\n",
    "# untuk menghasilkan covariance matrix"
   ]
  },
  {
   "cell_type": "markdown",
   "metadata": {},
   "source": [
    "##### Slope"
   ]
  },
  {
   "cell_type": "markdown",
   "metadata": {},
   "source": [
    "Setelah mendapatkan nilai variance dan covariance, maka kedua nilai tersebut dapat digunakan untuk mencari / menghitung nilai slope.\n",
    "\n",
    "**Cara Menghitung Nilai Slope:** Membagi nilai covariance_xy dengan variance_x, kemudian menampilkan hasilnya."
   ]
  },
  {
   "cell_type": "code",
   "execution_count": 33,
   "metadata": {},
   "outputs": [
    {
     "name": "stdout",
     "output_type": "stream",
     "text": [
      "slope: 5.597635022226929\n"
     ]
    }
   ],
   "source": [
    "slope = covariance_xy / variance_x\n",
    "\n",
    "print(f'slope: {slope}')"
   ]
  },
  {
   "cell_type": "markdown",
   "metadata": {},
   "source": [
    "##### Mencari nilai intercept"
   ]
  },
  {
   "cell_type": "markdown",
   "metadata": {},
   "source": [
    "**Nilai intercept pada Linear Regression bisa diperoleh dengan memanfaatkan formula berikut:**\n",
    "\n",
    "$\\alpha = \\bar{y} - \\beta \\bar{x}$\n",
    "\n",
    "Jadi nilai Intercept bisa didapatkan dengan menselisihkan jumlah rata-rata nilai y (nilai target) diselisihkan dengan perkalian antara slope dengan nilai rata-rata dari x (features)."
   ]
  },
  {
   "cell_type": "code",
   "execution_count": 34,
   "metadata": {},
   "outputs": [
    {
     "name": "stdout",
     "output_type": "stream",
     "text": [
      "intercept: 0.7059361715593901\n"
     ]
    }
   ],
   "source": [
    "intercept = np.mean(y) - slope * np.mean(X)\n",
    "# untuk mencari nilai intercept\n",
    "\n",
    "print(f'intercept: {intercept}')\n",
    "# untuk menampilkan hasilnya"
   ]
  },
  {
   "cell_type": "markdown",
   "metadata": {},
   "source": [
    "### Prediksi Harga Rumah"
   ]
  },
  {
   "cell_type": "markdown",
   "metadata": {},
   "source": [
    "Setelah memahami proses perhitungan Slope dan Intercept, selanjutnya model Linear Regression yang telah ditraining sebelumnya akan digunakan untuk melakukan prediksi harga rumah berdasarkan ukuran diameternya.\n",
    "\n",
    "Pada kasus ini akan diprediksi harga rumah berdasarkan 3 nilai diameternya.\n",
    "\n",
    "**Penjelasan Code:**\n",
    "1. Memanggil np.array yang disertai dengan nilai featuresnya (dis). \n",
    "2. Karena hanya terdapat 1 nilai features yaitu diameternya saja, maka perlu dilakukan reshape untuk menjadikan array yang dimiliki menjadi array 2 dimensi. \n",
    "3. Kemudian hasilnya akan diatampung ke dalam variable dis_rumah, dan kemudian akan ditampilkan."
   ]
  },
  {
   "cell_type": "code",
   "execution_count": 36,
   "metadata": {},
   "outputs": [
    {
     "data": {
      "text/plain": [
       "array([[4.09  ],\n",
       "       [4.9671],\n",
       "       [4.9671]])"
      ]
     },
     "execution_count": 36,
     "metadata": {},
     "output_type": "execute_result"
    }
   ],
   "source": [
    "dis_rumah = np.array([4.09, 4.9671, 4.9671]).reshape(-1, 1)\n",
    "# untuk memanggil data diameternya menjadi numpy array kemudian di reshape\n",
    "\n",
    "dis_rumah\n",
    "# untuk menampilkan datanya"
   ]
  },
  {
   "cell_type": "markdown",
   "metadata": {},
   "source": [
    "Setelah array yang dimiliki memenuhi kriteria SkLearn maka artinya sudah dapat dilakukan prediksi harga rumah dari ketiga nilai diameter.\n",
    "\n",
    "**Cara Memprediksi Harga Rumah dari DISnya:**\n",
    "1. Memanggil model.predict yang disertai dengan 1 buah parameter yaitu dis_rumah yang akan kita lakukan prediksi.\n",
    "2. Setelah diprediksi maka hasilnya akan ditampung kedalam variable prediksi_harga, dan akan ditampilkan."
   ]
  },
  {
   "cell_type": "code",
   "execution_count": 38,
   "metadata": {},
   "outputs": [
    {
     "data": {
      "text/plain": [
       "array([23.60026341, 28.50994909, 28.50994909])"
      ]
     },
     "execution_count": 38,
     "metadata": {},
     "output_type": "execute_result"
    }
   ],
   "source": [
    "prediksi_harga = model.predict(dis_rumah)\n",
    "# untuk melakukan prediksi harga pizza\n",
    "\n",
    "prediksi_harga\n",
    "# menampilkan hasil prediksi"
   ]
  },
  {
   "cell_type": "markdown",
   "metadata": {},
   "source": [
    "### Evaluasi Simple Linear Regression Model"
   ]
  },
  {
   "cell_type": "markdown",
   "metadata": {},
   "source": [
    "Berikut adalah cara untuk melakukan evaluasi performa dari Simple Linear Regression Model, untuk itu akan dibentuk kembali trainng set yang pernah digunakan sebelumnya, dan juga akan disertakan testing setnya.\n",
    "\n",
    "Pertama-tama akan dibentuk dulu Training set dan juga Testing setnya.\n",
    "\n",
    "* Untuk Training setnya juga lengkap terdapat x_train dan juga y_train. x_train dan y_train nya kali ini akan langsung dibentuk dengan menggunakan numpy array. Dan karena x_train nya hanya terdiri dari 1 features sedangkan kriteria dari SkLearn adalah membutuhkan array 2 dimensi maka perlu dilakukan reshapre untuk menjadikannya array 2 diemnsi.\n",
    "* Untuk Testing setnya juga terdapat x_test dan y_test dan langsung dibentuk dengan menggunakan numpy array. Dan karena x_test hanya terdiri dari 1 features sedangkan kriteria dari SkLearn adalah membutuhkan array 2 dimensi maka perlu dilakukan reshapre untuk menjadikannya array 2 diemnsi.\n",
    "x merepresentasikan sekumpulan nilai featuresnya & y merepresentasikan sekumpulan nilai targetnya"
   ]
  },
  {
   "cell_type": "markdown",
   "metadata": {},
   "source": [
    "#### Training & Testing Dataset"
   ]
  },
  {
   "cell_type": "code",
   "execution_count": 41,
   "metadata": {},
   "outputs": [],
   "source": [
    "X_train = np.array([4.9782, 4.9871, 6.1623, 6.0642]).reshape(-1, 1)\n",
    "y_train = np.array([35.9, 32.3, 36.4, 34.7])\n",
    "# membuat training set\n",
    "\n",
    "X_test = np.array([4.5678, 4.4567, 6.1256,\n",
    "                   6.0226]).reshape(-1, 1)\n",
    "y_test = np.array([35.2, 33.3, 36.6, 34.4])\n",
    "# membuat testing set"
   ]
  },
  {
   "cell_type": "markdown",
   "metadata": {},
   "source": [
    "##### Training Simple Linear Regression Model"
   ]
  },
  {
   "cell_type": "markdown",
   "metadata": {},
   "source": [
    "Setelah itu akan dibentuk kembali objek model nya untuk di training.\n",
    "\n",
    "**Penjelasan Code:**\n",
    "1. Pertama memanggil LinearRegression untuk membentuk objek dari class regression kemudian ditampung kedalam variable model.\n",
    "2. Setelah objek model terbentuk kemudian objek model tersebut ditraining dengan memanggil model.fit yang disertai 2 parameter yaitu x_train dan y_train."
   ]
  },
  {
   "cell_type": "code",
   "execution_count": 42,
   "metadata": {},
   "outputs": [
    {
     "data": {
      "text/plain": [
       "LinearRegression()"
      ]
     },
     "execution_count": 42,
     "metadata": {},
     "output_type": "execute_result"
    }
   ],
   "source": [
    "model = LinearRegression()\n",
    "model.fit(X_train, y_train)"
   ]
  },
  {
   "cell_type": "markdown",
   "metadata": {},
   "source": [
    "### Evaluasi Linear Regression Model dengan Coefficient of Determination atau R-squared ( 𝑅2 )"
   ]
  },
  {
   "cell_type": "markdown",
   "metadata": {},
   "source": [
    "Teknik evaluasi yang akan digunakan kali ini adalah Coefficient of Determination atau R-Squared ( 𝑅2 )\n",
    "\n",
    "Referensi: https://en.wikipedia.org/wiki/Coefficient_of_determination"
   ]
  },
  {
   "cell_type": "code",
   "execution_count": 43,
   "metadata": {},
   "outputs": [
    {
     "name": "stdout",
     "output_type": "stream",
     "text": [
      "R-squared: 0.14422138679663643\n"
     ]
    }
   ],
   "source": [
    "from sklearn.metrics import r2_score\n",
    "# untuk mengimport metrics R-Squared\n",
    "\n",
    "y_pred = model.predict(X_test)\n",
    "# melakukan prediksi nilai target\n",
    "\n",
    "r_squared = r2_score(y_test, y_pred)\n",
    "# membandingkan nilai hasil prediksi dengan nilai asli\n",
    "\n",
    "print(f'R-squared: {r_squared}')\n",
    "# menampilkan hasil perbandingan"
   ]
  },
  {
   "cell_type": "markdown",
   "metadata": {},
   "source": [
    "Dari hasil perbandingnan ketika angkanya semakin menjauhi 1 atau mendekati 0 maka artinya semakin baik / bagus, dan jika angkanya semakin mendekati angka 1 artinya buruk.\n",
    "\n",
    "Jika seandainya terdapat / memiliki model yang kualitasnya benar-benar buruk maka hasil perbandingan (nilai R-squared) yang didapatkan bisa berupa negatif (-)."
   ]
  },
  {
   "cell_type": "markdown",
   "metadata": {},
   "source": [
    "Berikut ini adalah cara melakukan perhitungan atau mencari nilai  𝑅2  secara manual.\n",
    "\n",
    "**Formula untuk mencari 𝑅2:**\n",
    "\n",
    "$R^{2} = 1 - \\frac{SS_{res}}{SS_{tot}}$\n",
    "\n",
    "* SSres = Sum Squared Residual\n",
    "* SStot = Sum Squared Total\n",
    "\n",
    "$SS_{res} =  \\sum_{i=1}^{n}(y_i - f(x_i))^2$\n",
    "\n",
    "Sum Squared Residual => proses perhitungan selisih antara setiap nilai y pada testing set dengan nilai prediksinya, kemudian nilai selisihnya dipangkatkan 2 dan dijumlahkan secara keseluruhan.\n",
    "\n",
    "Sum Squared Residual dapat dibilang juga menghitung nilai error nya atau akumulasi nilai error nya\n",
    "\n",
    "$SS_{tot} =  \\sum_{i=1}^{n}(y_i - \\bar{y})^2$\n",
    "\n",
    "Sum Squared Total = proses perhitungan selisih nilai untuk setiap nilai y pada testing set dengan nilai rata-ratanya, dan nilai selisihnya dipangkatkan 2 dan akan diakumulasikan dengan keseluruhan nilai y yang ada."
   ]
  },
  {
   "cell_type": "markdown",
   "metadata": {},
   "source": [
    "##### Code untuk perhitungan  𝑆𝑆𝑟𝑒𝑠"
   ]
  },
  {
   "cell_type": "code",
   "execution_count": 44,
   "metadata": {},
   "outputs": [
    {
     "name": "stdout",
     "output_type": "stream",
     "text": [
      "ss_res: 4.952818723914481\n"
     ]
    }
   ],
   "source": [
    "ss_res = sum([(y_i - model.predict(x_i.reshape(-1, 1))[0])**2\n",
    "              for x_i, y_i in zip(X_test, y_test)])\n",
    "\n",
    "print(f'ss_res: {ss_res}')\n",
    "\n",
    "# untuk melakukan perhitungan Sum Squared Residual"
   ]
  },
  {
   "cell_type": "markdown",
   "metadata": {},
   "source": [
    "##### Code untuk perhitungan  𝑆𝑆𝑡𝑜𝑡"
   ]
  },
  {
   "cell_type": "code",
   "execution_count": 45,
   "metadata": {},
   "outputs": [
    {
     "name": "stdout",
     "output_type": "stream",
     "text": [
      "ss_tot: 5.7875000000000165\n"
     ]
    }
   ],
   "source": [
    "mean_y = np.mean(y_test)\n",
    "ss_tot = sum([(y_i - mean_y)**2 for y_i in y_test])\n",
    "\n",
    "print(f'ss_tot: {ss_tot}')\n",
    "\n",
    "# untuk melakukan perhitungan Sum Squared Total"
   ]
  },
  {
   "cell_type": "markdown",
   "metadata": {},
   "source": [
    "##### Code untuk perhitungan  𝑅2"
   ]
  },
  {
   "cell_type": "code",
   "execution_count": 46,
   "metadata": {},
   "outputs": [
    {
     "name": "stdout",
     "output_type": "stream",
     "text": [
      "R-squared: 0.14422138679663643\n"
     ]
    }
   ],
   "source": [
    "r_squared = 1 - (ss_res / ss_tot)\n",
    "\n",
    "print(f'R-squared: {r_squared}')\n",
    "\n",
    "# untuk melakukan perhitungan R-squared"
   ]
  },
  {
   "cell_type": "markdown",
   "metadata": {},
   "source": [
    "## Multiple Linear Regression"
   ]
  },
  {
   "cell_type": "markdown",
   "metadata": {},
   "source": [
    "### Sample Dataset"
   ]
  },
  {
   "cell_type": "markdown",
   "metadata": {},
   "source": [
    "Sebelumnya akan dipersiapkan terlebih dahulu dataset yang akan digunakan. Dataset yang digunakan masih sama seperti sebelumnya yaitu dataset boston, namun kali ini terdapat 1 kolom baru yaitu crim (crim).\n",
    "\n",
    "Dataset boston ini akan berisikan dis, harga rumah, dan crim yang datanya ditampung kedalam format pandas dataframe. Dataset berikut akan dipersiapkan untuk training dataset dan juga testing dataset."
   ]
  },
  {
   "cell_type": "markdown",
   "metadata": {},
   "source": [
    "#### Training Dataset"
   ]
  },
  {
   "cell_type": "code",
   "execution_count": 58,
   "metadata": {},
   "outputs": [
    {
     "data": {
      "text/html": [
       "<div>\n",
       "<style scoped>\n",
       "    .dataframe tbody tr th:only-of-type {\n",
       "        vertical-align: middle;\n",
       "    }\n",
       "\n",
       "    .dataframe tbody tr th {\n",
       "        vertical-align: top;\n",
       "    }\n",
       "\n",
       "    .dataframe thead th {\n",
       "        text-align: right;\n",
       "    }\n",
       "</style>\n",
       "<table border=\"1\" class=\"dataframe\">\n",
       "  <thead>\n",
       "    <tr style=\"text-align: right;\">\n",
       "      <th></th>\n",
       "      <th>dis</th>\n",
       "      <th>harga</th>\n",
       "      <th>crim</th>\n",
       "    </tr>\n",
       "  </thead>\n",
       "  <tbody>\n",
       "    <tr>\n",
       "      <th>0</th>\n",
       "      <td>4.0900</td>\n",
       "      <td>24.0</td>\n",
       "      <td>0.00632</td>\n",
       "    </tr>\n",
       "    <tr>\n",
       "      <th>1</th>\n",
       "      <td>4.9671</td>\n",
       "      <td>21.6</td>\n",
       "      <td>0.02731</td>\n",
       "    </tr>\n",
       "    <tr>\n",
       "      <th>2</th>\n",
       "      <td>4.9671</td>\n",
       "      <td>34.7</td>\n",
       "      <td>0.02729</td>\n",
       "    </tr>\n",
       "    <tr>\n",
       "      <th>3</th>\n",
       "      <td>6.0622</td>\n",
       "      <td>33.4</td>\n",
       "      <td>0.03237</td>\n",
       "    </tr>\n",
       "    <tr>\n",
       "      <th>4</th>\n",
       "      <td>6.0622</td>\n",
       "      <td>36.2</td>\n",
       "      <td>0.06905</td>\n",
       "    </tr>\n",
       "  </tbody>\n",
       "</table>\n",
       "</div>"
      ],
      "text/plain": [
       "      dis  harga     crim\n",
       "0  4.0900   24.0  0.00632\n",
       "1  4.9671   21.6  0.02731\n",
       "2  4.9671   34.7  0.02729\n",
       "3  6.0622   33.4  0.03237\n",
       "4  6.0622   36.2  0.06905"
      ]
     },
     "execution_count": 58,
     "metadata": {},
     "output_type": "execute_result"
    }
   ],
   "source": [
    "import pandas as pd\n",
    "\n",
    "rumah = {'dis': [4.0900, 4.9671, 4.9671, 6.0622, 6.0622], \n",
    "         'harga': [24.0, 21.6, 34.7, 33.4, 36.2],\n",
    "         'crim' : [0.00632, 0.02731, 0.02729, 0.03237, 0.06905]}\n",
    "\n",
    "train_rumah_df = pd.DataFrame(rumah)\n",
    "train_rumah_df"
   ]
  },
  {
   "cell_type": "markdown",
   "metadata": {},
   "source": [
    "#### Testing Dataset"
   ]
  },
  {
   "cell_type": "code",
   "execution_count": 59,
   "metadata": {},
   "outputs": [
    {
     "data": {
      "text/html": [
       "<div>\n",
       "<style scoped>\n",
       "    .dataframe tbody tr th:only-of-type {\n",
       "        vertical-align: middle;\n",
       "    }\n",
       "\n",
       "    .dataframe tbody tr th {\n",
       "        vertical-align: top;\n",
       "    }\n",
       "\n",
       "    .dataframe thead th {\n",
       "        text-align: right;\n",
       "    }\n",
       "</style>\n",
       "<table border=\"1\" class=\"dataframe\">\n",
       "  <thead>\n",
       "    <tr style=\"text-align: right;\">\n",
       "      <th></th>\n",
       "      <th>dis</th>\n",
       "      <th>harga</th>\n",
       "      <th>crim</th>\n",
       "    </tr>\n",
       "  </thead>\n",
       "  <tbody>\n",
       "    <tr>\n",
       "      <th>0</th>\n",
       "      <td>4.0911</td>\n",
       "      <td>24.0</td>\n",
       "      <td>0.01632</td>\n",
       "    </tr>\n",
       "    <tr>\n",
       "      <th>1</th>\n",
       "      <td>4.9656</td>\n",
       "      <td>21.6</td>\n",
       "      <td>0.12731</td>\n",
       "    </tr>\n",
       "    <tr>\n",
       "      <th>2</th>\n",
       "      <td>4.7671</td>\n",
       "      <td>34.7</td>\n",
       "      <td>0.22729</td>\n",
       "    </tr>\n",
       "    <tr>\n",
       "      <th>3</th>\n",
       "      <td>6.0600</td>\n",
       "      <td>33.4</td>\n",
       "      <td>0.03227</td>\n",
       "    </tr>\n",
       "    <tr>\n",
       "      <th>4</th>\n",
       "      <td>6.0622</td>\n",
       "      <td>36.2</td>\n",
       "      <td>0.06915</td>\n",
       "    </tr>\n",
       "  </tbody>\n",
       "</table>\n",
       "</div>"
      ],
      "text/plain": [
       "      dis  harga     crim\n",
       "0  4.0911   24.0  0.01632\n",
       "1  4.9656   21.6  0.12731\n",
       "2  4.7671   34.7  0.22729\n",
       "3  6.0600   33.4  0.03227\n",
       "4  6.0622   36.2  0.06915"
      ]
     },
     "execution_count": 59,
     "metadata": {},
     "output_type": "execute_result"
    }
   ],
   "source": [
    "import pandas as pd\n",
    "\n",
    "rumah = {'dis': [4.0911, 4.9656, 4.7671, 6.0600, 6.0622], \n",
    "         'harga': [24.0, 21.6, 34.7, 33.4, 36.2],\n",
    "         'crim' : [0.01632, 0.12731, 0.22729, 0.03227, 0.06915]}\n",
    "\n",
    "test_rumah_df = pd.DataFrame(rumah)\n",
    "test_rumah_df"
   ]
  },
  {
   "cell_type": "markdown",
   "metadata": {},
   "source": [
    "Dalam pembelajaran ini akan dibuat sebuah model machine learning yang dapat digunakan untuk memprediksi harga rumah berdasarkan DIS dan CRIM nya.\n",
    "\n",
    "Artinya DIS dan CRIM akan menjadi nilai features, sedangkan harga akan menjadi nilai target. Dan karena yang akan diprediksi adalah nilai continuous bukan kategori, maka ini adalah Regression Task."
   ]
  },
  {
   "cell_type": "markdown",
   "metadata": {},
   "source": [
    "#### Preprocessing Dataset"
   ]
  },
  {
   "cell_type": "markdown",
   "metadata": {},
   "source": [
    "Sebelum melakukan training model, data yang dimiliki akan dilakukan pengelompokkan nilai features dan nilai target. Data akan dikelompokkan kedalam format numpy array."
   ]
  },
  {
   "cell_type": "code",
   "execution_count": 60,
   "metadata": {},
   "outputs": [
    {
     "name": "stdout",
     "output_type": "stream",
     "text": [
      "X_train:\n",
      "[[4.09    0.00632]\n",
      " [4.9671  0.02731]\n",
      " [4.9671  0.02729]\n",
      " [6.0622  0.03237]\n",
      " [6.0622  0.06905]]\n",
      "\n",
      "y_train: [24.  21.6 34.7 33.4 36.2]\n"
     ]
    }
   ],
   "source": [
    "import numpy as np\n",
    "\n",
    "X_train = np.array(train_rumah_df[['dis', 'crim']])\n",
    "y_train = np.array(train_rumah_df['harga'])\n",
    "\n",
    "print(f'X_train:\\n{X_train}\\n')\n",
    "print(f'y_train: {y_train}')"
   ]
  },
  {
   "cell_type": "markdown",
   "metadata": {},
   "source": [
    "#### Pengelompokkan Nilai dari Data Training Set:"
   ]
  },
  {
   "cell_type": "code",
   "execution_count": 62,
   "metadata": {},
   "outputs": [
    {
     "name": "stdout",
     "output_type": "stream",
     "text": [
      "X_test:\n",
      "[[4.0911  0.01632]\n",
      " [4.9656  0.12731]\n",
      " [4.7671  0.22729]\n",
      " [6.06    0.03227]\n",
      " [6.0622  0.06915]]\n",
      "\n",
      "y_test: [24.  21.6 34.7 33.4 36.2]\n"
     ]
    }
   ],
   "source": [
    "X_test = np.array(test_rumah_df[['dis', 'crim']])\n",
    "y_test = np.array(test_rumah_df['harga'])\n",
    "\n",
    "print(f'X_test:\\n{X_test}\\n')\n",
    "print(f'y_test: {y_test}')"
   ]
  },
  {
   "cell_type": "markdown",
   "metadata": {},
   "source": [
    "### Multiple Linear Regression Model"
   ]
  },
  {
   "cell_type": "markdown",
   "metadata": {},
   "source": [
    "Multiple Linear Regression merupakan generalisasi dari Simple Linear Regression yang memungkinkan untuk menggunakan beberapa explanatory variables.\n",
    "\n",
    "Dengan ini dapat diketahui bahwa perbedaan Multiple Linear Regression dengan Simple Linear Regression terletak pada jumlah features / explanatory variables yang digunakan.\n",
    "\n",
    "Pada Simple Linear Regression hanya digunakan 1 features saja untuk melakukan prediksi nilai. Sedangkan pada Multiple Linear Regression akan digunakan lebih dari 1 (>1) features untuk melakukan prediksi.\n",
    "\n",
    "Referensi: https://en.wikipedia.org/wiki/Linear_regression"
   ]
  },
  {
   "cell_type": "markdown",
   "metadata": {},
   "source": [
    "**Formula untuk Multiple Linear Regression:**\n",
    "\n",
    "$y = \\alpha + \\beta_1x_1 + \\beta_2x_2 + \\dots + \\beta_nx_n$\n",
    "\n",
    "Untuk setiap nilai x (features) akan dikalikan dengan nilai beta ( 𝛽 )\n",
    "\n",
    "Kemudian akan dilakukan implementasi Multiple Linear Regression dengan SKLearn. Caranya:\n",
    "\n",
    "Mengimport modul dengan memanggil from sklearn.linear_model import LinearRegression\n",
    "Mengimport metricsnya dengan memanggil from sklearn.metrics import r2_score\n",
    "Setelah itu membentuk objek modelnya dengan memanggil LinearRegression() yang kemudian ditampung kedalam variable model.\n",
    "Jika objek sudah terbentuk, lalu dilakukan training terhadap model yang sudah dibentuk dengan memanggil model.fit disertai dengan 2 buah parameter yaitu nilai features dan targetnya (x_train & y_train).\n",
    "Setelah ditraining, dilakukan prediksi terhadap model dengan menggunakan model.predict diikuti dengan data yang akan diprediksi (x_test), kemudian hasilnya ditampung kedalam variable y_pred.\n",
    "Hasil prediksi tersebut digunakan untuk mengukur performa dari model yang terbentuk, model akan diukur menggunakan r2_score dengan memanggil r2_score diikuti 2 parameter yaitu data yang akan dibandingkan (y_test & y_pred). Kemudian hasilnya kana di tampilkan."
   ]
  },
  {
   "cell_type": "code",
   "execution_count": 63,
   "metadata": {},
   "outputs": [
    {
     "name": "stdout",
     "output_type": "stream",
     "text": [
      "r_squared: -0.5227320366218966\n"
     ]
    }
   ],
   "source": [
    "from sklearn.linear_model import LinearRegression\n",
    "from sklearn.metrics import r2_score\n",
    "\n",
    "model = LinearRegression()\n",
    "model.fit(X_train, y_train)\n",
    "y_pred = model.predict(X_test)\n",
    "    \n",
    "print(f'r_squared: {r2_score(y_test, y_pred)}')"
   ]
  },
  {
   "cell_type": "markdown",
   "metadata": {},
   "source": [
    "## Polynomial Regression"
   ]
  },
  {
   "cell_type": "markdown",
   "metadata": {},
   "source": [
    "Polynomial Regression merupakan bentuk pengembangan lain dari Simple Linear Regression.\n",
    "\n",
    "Polynomial Regression memodelkan hubungan antara independent variable  𝑥  dan dependent variable  𝑦  sebagai derajat polynomial dalam  𝑥 .\n",
    "\n",
    "Independent variable => features\n",
    "Dependent variable => target\n",
    "Referensi: https://en.wikipedia.org/wiki/Polynomial_regression"
   ]
  },
  {
   "cell_type": "markdown",
   "metadata": {},
   "source": [
    "### Preprocessing Dataset"
   ]
  },
  {
   "cell_type": "markdown",
   "metadata": {},
   "source": [
    "Untuk mempermudah pembelajaran, jumlah features pada data yang dimiliki akan dipangkas menjadi 1 features saja."
   ]
  },
  {
   "cell_type": "code",
   "execution_count": 65,
   "metadata": {},
   "outputs": [
    {
     "name": "stdout",
     "output_type": "stream",
     "text": [
      "X_train:\n",
      "[[4.09  ]\n",
      " [4.9671]\n",
      " [4.9671]\n",
      " [6.0622]\n",
      " [6.0622]]\n",
      "\n",
      "y_train: [24.  21.6 34.7 33.4 36.2]\n"
     ]
    }
   ],
   "source": [
    "X_train = np.array(train_rumah_df['dis']).reshape(-1, 1)\n",
    "y_train = np.array(train_rumah_df['harga'])\n",
    "\n",
    "print(f'X_train:\\n{X_train}\\n')\n",
    "print(f'y_train: {y_train}')"
   ]
  },
  {
   "cell_type": "markdown",
   "metadata": {},
   "source": [
    "### Polynomial Regression: Quadratic"
   ]
  },
  {
   "cell_type": "markdown",
   "metadata": {},
   "source": [
    "Kali ini akan dipelajari polynomial regression pada SKLearn dengan derajat polynomial 2 (Quadratic). Polynomial regression ini juga dapat menggunakna derajat polynomial yang lain seperti 3, 4, dst.\n",
    "\n",
    "Derajat polynomial yang paling umum ditemui adalah derajat polynomial 2 dan 3 yaitu Quadratic dan Cubic.\n",
    "\n",
    "**Formula Polynomial Regression Quadratic:**\n",
    "\n",
    "$y = \\alpha + \\beta_1x + \\beta_2x^2$"
   ]
  },
  {
   "cell_type": "markdown",
   "metadata": {},
   "source": [
    "#### Polynomial Features\n"
   ]
  },
  {
   "cell_type": "markdown",
   "metadata": {},
   "source": [
    "Untuk menerapkan Polynomial Regression perlu dilakukan transformasi terhadap nilai features dari dataset yang dimilki.\n",
    "\n",
    "**Caranya:**\n",
    "1. Mengimport polynomial modul polynomial features dengan memanggil from sklearn.preprocessing import PolynomialFeatures\n",
    "2. Membentuk objek polynomial features dengan memanggil PolynomialFeatures() yang disertakan 1 buah parameeter yaitu degrees yang memiliki nilai 2, dan hasilnya akan ditampung kedalam variable quadratic_feature.\n",
    "3. Jika objek sudah terbentuk kemudian dilakukan proses transformasi terhadap nilai featuresnya dengan memanggil quadratic_feature.fit_transform() yang diikuti 1 buah parameter yaitu data yang akan dilakukan transfrom. Kemudian hasilnya akan ditampung kedalam X_train_quadratic."
   ]
  },
  {
   "cell_type": "code",
   "execution_count": 67,
   "metadata": {},
   "outputs": [
    {
     "name": "stdout",
     "output_type": "stream",
     "text": [
      "X_train_quadratic:\n",
      "[[ 1.          4.09       16.7281    ]\n",
      " [ 1.          4.9671     24.67208241]\n",
      " [ 1.          4.9671     24.67208241]\n",
      " [ 1.          6.0622     36.75026884]\n",
      " [ 1.          6.0622     36.75026884]]\n",
      "\n"
     ]
    }
   ],
   "source": [
    "from sklearn.preprocessing import PolynomialFeatures\n",
    "\n",
    "quadratic_feature = PolynomialFeatures(degree=2)\n",
    "X_train_quadratic = quadratic_feature.fit_transform(X_train)\n",
    "\n",
    "print(f'X_train_quadratic:\\n{X_train_quadratic}\\n')"
   ]
  },
  {
   "cell_type": "markdown",
   "metadata": {},
   "source": [
    "#### Training Model"
   ]
  },
  {
   "cell_type": "markdown",
   "metadata": {},
   "source": [
    "Setelah memiliki polynomial features yang dibutuhkan kemudian akan dilakukan traning model.\n",
    "\n",
    "**Caranya:**\n",
    "1. Membentuk objek modelnya dengan memanggil import matplotlib.pyplot as plt\n",
    "2. Setelah objek model terbentuk maka dilakukan proses training terhadap model dengan model.fit() disertai dengan 2 parameter yaitu nilai features dan targetnya (X_train_quadratic, y_train). Nilai features yang digunakan disini adalah nilai features yang sudah berbentuk polynomial features."
   ]
  },
  {
   "cell_type": "code",
   "execution_count": 68,
   "metadata": {},
   "outputs": [
    {
     "data": {
      "text/plain": [
       "LinearRegression()"
      ]
     },
     "execution_count": 68,
     "metadata": {},
     "output_type": "execute_result"
    }
   ],
   "source": [
    "model = LinearRegression()\n",
    "model.fit(X_train_quadratic, y_train)"
   ]
  },
  {
   "cell_type": "markdown",
   "metadata": {},
   "source": [
    "#### Visualisasi Model"
   ]
  },
  {
   "cell_type": "markdown",
   "metadata": {},
   "source": [
    "Setelah dilakukan training selanjutnya dilakukan visualisasi terhadap model yang telah ditraining.\n",
    "\n",
    "**Cara Memvisualisasikannya:**\n",
    "1. Mengimport matplotlib dengan memanggil import matplotlib.pyplot as plt\n",
    "2. Membentuk deret bilangan dari 0 sampai 25 untuk membentuk data point sebanyak 100 dengan menggunakan np.linspace(0, 25, 100), kemudian dilakukan reshape dengan memanggil .reshape(-1, 1) dan hasilnya akan ditampung kedalam variable x_vis.\n",
    "3. Melakukan transformasi dengan memanggil quadratic_feature.transform() diikuti dengan 1 parameter yaitu x_vis. Kemudian hasilnya akan ditampung kedalam variable X_vis_quadratic.\n",
    "4. Melakukan prediksi terhadap nilai features yang ada dengan model.predict diikuti dengan 1 buah parameter yaitu nilai features yang akan diprediksi.\n",
    "5. Membentuk data point dengan scatter plot dengan memanggil plt.scatter() diikuti dengan 2 buah parameter yang akan divisualisasikan yaitu data point yang digunakan untuk melakukan proses trainingnya (x_train & y_train).\n",
    "6. Melakukan plotting terhadap hasil prediksi dengan memanggil plt.plot() disertai dengan 3 buah parameter (X_vis, y_vis_quadratic, -r), plotting akan dibentuk sebagai line plot dengan warna merah."
   ]
  },
  {
   "cell_type": "code",
   "execution_count": 69,
   "metadata": {},
   "outputs": [
    {
     "data": {
      "image/png": "[encoded data removed]",
      "text/plain": [
       "<Figure size 432x288 with 1 Axes>"
      ]
     },
     "metadata": {
      "needs_background": "light"
     },
     "output_type": "display_data"
    }
   ],
   "source": [
    "import matplotlib.pyplot as plt\n",
    "\n",
    "X_vis = np.linspace(0, 25, 100).reshape(-1, 1)\n",
    "X_vis_quadratic = quadratic_feature.transform(X_vis)\n",
    "y_vis_quadratic = model.predict(X_vis_quadratic)\n",
    "\n",
    "plt.scatter(X_train, y_train)\n",
    "plt.plot(X_vis, y_vis_quadratic, '-r')\n",
    "\n",
    "plt.title('Perbandingan DIS dan Harga Rumah')\n",
    "plt.xlabel('DIS')\n",
    "plt.ylabel('Harga (dollar)')\n",
    "plt.xlim(0, 25)\n",
    "plt.ylim(0, 25)\n",
    "plt.grid(True)\n",
    "plt.show()"
   ]
  },
  {
   "cell_type": "markdown",
   "metadata": {},
   "source": [
    "### Polynomial Regression: Quadratic vs Cubic"
   ]
  },
  {
   "cell_type": "markdown",
   "metadata": {},
   "source": [
    "Disini akan dilakukan perbandingan antara Model Simple Linear Regression, Quadratic Polynomial Regression, Cubic Polynomial Regression. Perbandingan akan dilakukan dengan cara memvisualisasikannya."
   ]
  },
  {
   "cell_type": "code",
   "execution_count": 70,
   "metadata": {},
   "outputs": [
    {
     "data": {
      "image/png": "[encoded data removed]",
      "text/plain": [
       "<Figure size 432x288 with 1 Axes>"
      ]
     },
     "metadata": {
      "needs_background": "light"
     },
     "output_type": "display_data"
    }
   ],
   "source": [
    "# Training Set\n",
    "plt.scatter(X_train, y_train)\n",
    "\n",
    "# Linear\n",
    "model = LinearRegression()\n",
    "model.fit(X_train, y_train)\n",
    "X_vis = np.linspace(0, 25, 100).reshape(-1, 1)\n",
    "y_vis = model.predict(X_vis)\n",
    "plt.plot(X_vis, y_vis, '--r', label='linear')\n",
    "\n",
    "# Quadratic\n",
    "quadratic_feature = PolynomialFeatures(degree=2)\n",
    "X_train_quadratic = quadratic_feature.fit_transform(X_train)\n",
    "model = LinearRegression()\n",
    "model.fit(X_train_quadratic, y_train)\n",
    "X_vis_quadratic = quadratic_feature.transform(X_vis)\n",
    "y_vis = model.predict(X_vis_quadratic)\n",
    "plt.plot(X_vis, y_vis, '--g', label='quadratic')\n",
    "\n",
    "# Cubic\n",
    "cubic_feature = PolynomialFeatures(degree=3)\n",
    "X_train_cubic = cubic_feature.fit_transform(X_train)\n",
    "model = LinearRegression()\n",
    "model.fit(X_train_cubic, y_train)\n",
    "X_vis_cubic = cubic_feature.transform(X_vis)\n",
    "y_vis = model.predict(X_vis_cubic)\n",
    "plt.plot(X_vis, y_vis, '--y', label='cubic')\n",
    "\n",
    "plt.title('Perbandingan DIS dan Harga Rumah')\n",
    "plt.xlabel('DIS')\n",
    "plt.ylabel('Harga (dollar)')\n",
    "plt.legend()\n",
    "plt.xlim(0, 25)\n",
    "plt.ylim(0, 25)\n",
    "plt.grid(True)\n",
    "plt.show()"
   ]
  },
  {
   "cell_type": "code",
   "execution_count": null,
   "metadata": {},
   "outputs": [],
   "source": []
  }
 ],
 "metadata": {
  "kernelspec": {
   "display_name": "Python 3",
   "language": "python",
   "name": "python3"
  },
  "language_info": {
   "codemirror_mode": {
    "name": "ipython",
    "version": 3
   },
   "file_extension": ".py",
   "mimetype": "text/x-python",
   "name": "python",
   "nbconvert_exporter": "python",
   "pygments_lexer": "ipython3",
   "version": "3.8.5"
  }
 },
 "nbformat": 4,
 "nbformat_minor": 4
}
